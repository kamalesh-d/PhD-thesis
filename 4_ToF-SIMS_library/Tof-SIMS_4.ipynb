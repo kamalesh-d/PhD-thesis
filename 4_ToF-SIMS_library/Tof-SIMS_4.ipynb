{
 "cells": [
  {
   "cell_type": "markdown",
   "id": "eba50e48",
   "metadata": {},
   "source": [
    "<h1 style=\"color:blue; text-align:center\">ToF-SIMS data visualizer</h1>"
   ]
  },
  {
   "cell_type": "markdown",
   "id": "d14b5faf",
   "metadata": {},
   "source": [
    "<h2 style=\"color:brown; text-align:center\">Library dependencies</h2>"
   ]
  },
  {
   "cell_type": "code",
   "execution_count": 203,
   "id": "2406d876",
   "metadata": {},
   "outputs": [],
   "source": [
    "import matplotlib\n",
    "import matplotlib.pyplot as plt\n",
    "import glob\n",
    "from statistics import mean\n",
    "import re\n",
    "import numpy as np\n",
    "import csv\n",
    "import pandas as pd\n",
    "from plotly.subplots import make_subplots\n",
    "import plotly.graph_objects as go\n"
   ]
  },
  {
   "cell_type": "markdown",
   "id": "c07eaaa9",
   "metadata": {},
   "source": [
    "<h2 style=\"color:brown; text-align:center\">Plot font properties</h2>"
   ]
  },
  {
   "cell_type": "code",
   "execution_count": 204,
   "id": "b1afd1e6",
   "metadata": {},
   "outputs": [],
   "source": [
    "# --- Font size and familiy\n",
    "matplotlib.rcParams['font.size']          =   10\n",
    "matplotlib.rcParams['axes.labelsize']     =   10\n",
    "matplotlib.rcParams['font.serif']         =   [\"Cambria\"]\n",
    "matplotlib.rcParams['font.sans-serif']    =   [\"Arial\"]\n",
    "#matplotlib.rcParams['axes.unicode_minus'] =   False # Use for Noto Fonts\n",
    "\n",
    "matplotlib.rcParams[\"mathtext.fontset\"]   =    \"dejavusans\" # \"dejavusans\" \"dejavuserif\" \"stix\"\n",
    "# --- Axes/borders on the plot sides\n",
    "matplotlib.rcParams['axes.linewidth']     =   1\n",
    "matplotlib.rcParams['lines.linewidth']    =   .9\n",
    "\n",
    "theme_color_code = {'primary': '#0275d8', 'success': '#5cb85c', 'info': '#5bc0de', 'warning': '#f0ad4e', \n",
    "                    'danger': '#d9534f', 'inverse': '#292b2c', 'gray': '#a3a3a3', 'plain': '#ffffff'}\n"
   ]
  },
  {
   "cell_type": "markdown",
   "id": "fde2080f",
   "metadata": {},
   "source": [
    "<h2 style=\"color:brown; text-align:center\">ToF-SIMS data processing parameters</h2>"
   ]
  },
  {
   "cell_type": "markdown",
   "id": "3d1339db",
   "metadata": {},
   "source": [
    "<p style=\"font-size: 16px\"> Enter the ToF-SIMS file name that you are intended to process through this script. Enter your filename within the inverted quotation after equal to of `filename_to_process`<br>\n",
    "</p>\n",
    "<strong>A general note, please do not modify/remove inverted quotation or square bracket or curly braces anywhere, (Sensitive for python) unless you know the purpose of changing. Feel free to change the values inside them to fulfil your needs. <br> And keep the jupyter notebook in the same directory containing the ToF-SIMS results you are interested to process them. </strong>\n",
    "\n",
    "<p style=\"font-size: 16px\"> Enter one sample element you are sure that is available in the ToF-SIMS file. <br>\n",
    "By default, use 'H+', because it will be present in the most of the ToF-SIMS results. If that is not the case, please update accordingly. </p>\n",
    "\n",
    "<p style=\"color: red\"> And if your ToF-SIMS was performed in negative mode, please change the symbols accordingly to match the exact symbols displayed in your ToF-SIMS file. (Hint: All elements will be represented in negative)\n",
    "</p>"
   ]
  },
  {
   "cell_type": "code",
   "execution_count": 205,
   "id": "f1a3d1bb",
   "metadata": {},
   "outputs": [],
   "source": [
    "filename_to_process = 'ISG_pH9_10 jours_POS_Depth_Oct1802.TXT'\n",
    "one_sample_element = 'H+'"
   ]
  },
  {
   "cell_type": "markdown",
   "id": "a4177ada",
   "metadata": {},
   "source": [
    "<p style=\"font-size: 16px\"> \n",
    "Choose the list of elements that you are intend to plot in primary y axis and secondary y-axis. Each element has to be chosen from the symbols as follows: <br><br>\n",
    "    <strong>'H+', '6Li+', 'Li+', '10B+', 'B+', 'Ca++', 'Na+', 'Al+' , 'Si+', '29Si+', '30Si+', 'K+', 'NaO+', 'Ca+', '41K+', 'AlO+', '44Ca+', 'Na_2+', 'Zr+'.</strong> <br><br>\n",
    "Note: If you don't see the element of your interest in the plot, please check the symbol represented in the ToF-SIMS file for the element of your interest.</p> <p style=\"color: red\"> And if your ToF-SIMS was performed in negative mode, please change the symbols accordingly to match the exact symbols displayed in your ToF-SIMS file. (Hint: All elements will be represented in negative)\n",
    "</p>\n",
    "\n",
    "<p>Note: Do not leave the list_of_elements_to_plot_in_primary_y_axis to be empty. You can leave list_of_elements_to_plot_in_secondary_y_axis to be empty if no elements are to be displayed there.</p>\n"
   ]
  },
  {
   "cell_type": "code",
   "execution_count": 336,
   "id": "e3e152a3",
   "metadata": {},
   "outputs": [],
   "source": [
    "list_of_elements_to_plot_in_primary_y_axis = ['Zr+']\n",
    "list_of_elements_to_plot_in_secondary_y_axis = []\n"
   ]
  },
  {
   "cell_type": "markdown",
   "id": "5b3966f2",
   "metadata": {},
   "source": [
    "<p style=\"font-size: 16px\"> \n",
    "Choose the way your SIMS data to be processed. <br><br>\n",
    "<strong> Options: </strong><br><br>\n",
    "<strong>'raw_data'</strong> = Visualize the intensity for each chosen element without processing the data.<br>\n",
    "<strong>'mean_normalized'</strong> = visualization based on mean normalization with respect to the pristine glass. <br>\n",
    "<strong>'ratio_of_element'</strong> = Visualize the ratio of raw intensity between the two elements. Choice of the elements has to be declared in 'ratio_of_element_numerator' and 'ratio_of_element_denominator'.<br>\n",
    "<strong>'element_normalized'</strong> = Choose this option if you want to normalize each of your chosen elements to be normalized with respect to any particular element, for instance Zirconium normalization. Choice of the element to normalize has to be defined at 'choose_element_to_normalize', which you will find in subsequent steps. <br>\n",
    "</p>"
   ]
  },
  {
   "cell_type": "markdown",
   "id": "6936fad9",
   "metadata": {},
   "source": [
    "<p style=\"font-size: 16px\">Examples:\n",
    "    <li>If I would like to perform only mean normalization, then I will set the script as:</li>\n",
    "type_of_plot = ['mean_normalized']\n",
    "    <li>If I would like to perform mean normalization with isotopic ratio for any two elements of my choice:</li>\n",
    "type_of_plot = ['mean_normalized', 'ratio_of_element']\n",
    "    <li>If I would like to perform only the element normalization:</li>\n",
    "type_of_plot = ['element_normalized']\n",
    "    <li>If I would like to perform the element normalization with isotopic ratio for any two elements of my choice:</li>\n",
    "type_of_plot = ['element_normalized', 'ratio_of_element']\n",
    "<br>\n",
    "Likewise, you can choose 'raw_data' or 'mean_normalized' or 'element_normalized' as your first parameter in the type_of_plot. Optionally you can include 'ratio_of_element' if you are interesting calculating the isotopic ratio.\n",
    "</p><br>\n"
   ]
  },
  {
   "cell_type": "code",
   "execution_count": 337,
   "id": "9823b250",
   "metadata": {},
   "outputs": [],
   "source": [
    "type_of_plot = ['mean_normalized', 'ratio_of_element']"
   ]
  },
  {
   "cell_type": "markdown",
   "id": "ea2a0f44",
   "metadata": {},
   "source": [
    "<p>If you choose the option of 'mean_normalized' in previous line, then you will have to define the glass region. It can be handled in two ways. <br>\n",
    "<strong>Options:</strong><br>\n",
    "<strong>start_end</strong> = You will have choice to define the glass region manually the starting and ending point <br>\n",
    "<strong>partition</strong> = \n",
    "    You will define the partition of the glass to which the normalization has to be performed, whether it is based on first few layers or last few layers. In both the cases, you will have ability to choose the number of layers of pristine glass. <br>\n",
    "</p>\n"
   ]
  },
  {
   "cell_type": "code",
   "execution_count": 338,
   "id": "49588e1b",
   "metadata": {},
   "outputs": [],
   "source": [
    "type_of_mean_normalization = 'partition'"
   ]
  },
  {
   "cell_type": "markdown",
   "id": "e69559d5",
   "metadata": {},
   "source": [
    "<p>If you choose start_end option in type_of_mean_normalization:<br>\n",
    "Explanation:\n",
    "pristine_glass_start_region = Define the point at which you are intend to consider the region as start of pristine glass and for computing the mean.\n",
    "pristine_glass_end_region = Define the point at which you are intend to consider the region as end of pristine glass and for computing the mean.\n",
    "<p style=\"color:red\">Note: When you are defining the start and end region of pristine glass in (nm), the values will not be exactly the same in the ToF-SIMS file. To handle this issue, i have prepared my script to find the closest value from what you have mentioned. For instance, if you define </p>\n",
    "</p>"
   ]
  },
  {
   "cell_type": "code",
   "execution_count": 339,
   "id": "a36e55b0",
   "metadata": {},
   "outputs": [],
   "source": [
    "pristine_glass_start_region = 100\n",
    "pristine_glass_end_region = 140"
   ]
  },
  {
   "cell_type": "markdown",
   "id": "2da2de28",
   "metadata": {},
   "source": [
    "<p>If you choose 'partition' option in type_of_mean_normalization:\n",
    "Explanation:\n",
    "mean_normalize_based_on_which_partition = Choose the option to represent if you consider that pristine glass is in starting or ending. In other words, define if you want to mean normalize based on last few layers or first few layers.\n",
    "    <br>\n",
    "    <strong>Options:</strong>\n",
    "<li>'last' = Mean will be computed for last few layers</li>\n",
    "<li>'first' = Mean will be computed for top few layers</li>\n",
    "</p>\n",
    "<p>By default, set 'mean_normalize_based_on_which_partition' as 'last', since the gel comes first and pristine glass is last few layers. </p>\n",
    "\n",
    "<p>\n",
    "    Next parameter is 'mean_normalize_based_on_number_of_layers': <br> Set its value in Integer, which directly defines the depth in (nm) that you consider as pristine glass to perform mean normalization. <br>\n",
    "</p>"
   ]
  },
  {
   "cell_type": "markdown",
   "id": "83f32574",
   "metadata": {},
   "source": [
    "<p style=\"font-size: 16px\">Examples:\n",
    "    <li>If I would like to define the script that my glass region is from last 30 nm depth of ToF-SIMS data, then I will do as follows</li>\n",
    "mean_normalize_based_on_which_partition = 'last'<br>\n",
    "mean_normalize_based_on_number_of_layers = 30\n",
    "    <li>If I would like to define the script that my glass region is based on last 100 nm depth of ToF-SIMS data, then I will do as follows</li>\n",
    "mean_normalize_based_on_which_partition = 'last'<br>\n",
    "mean_normalize_based_on_number_of_layers = 100\n",
    "<br>\n",
    "    <li>If I would like to define the script that my glass region is based on first 40 nm depth of ToF-SIMS data, then I will do as follows</li>\n",
    "mean_normalize_based_on_which_partition = 'first'<br>\n",
    "mean_normalize_based_on_number_of_layers = 40\n",
    "<br>\n",
    "\n",
    "Note that, the integer you are defining is the value in nanometer. Since ToF-SIMS does not have the depth defined in Integer, python will try to find the closest value as possible to the one you define. In any case, at the end of the script you will know from which layer to which layer the pristine glass is considered to perform the mean normalization. \n",
    "</p><br>\n"
   ]
  },
  {
   "cell_type": "code",
   "execution_count": 340,
   "id": "bc2b6c23",
   "metadata": {},
   "outputs": [],
   "source": [
    "mean_normalize_based_on_which_partition = 'last'\n",
    "mean_normalize_based_on_number_of_layers = 30\n"
   ]
  },
  {
   "cell_type": "markdown",
   "id": "30eb982a",
   "metadata": {},
   "source": [
    "<p>If you choose element_normalized option in type_of_plot:\n",
    "    You need to define the element to which you need all other elements to be normalized against. For instance, All the elements of your choice will be normalized against the Zirconium.<br>\n",
    "    Please note that, you need to define the name of the element according to the naming convention followed in your ToF-SIMS file. \n",
    "</p>"
   ]
  },
  {
   "cell_type": "code",
   "execution_count": 341,
   "id": "25711c6c",
   "metadata": {},
   "outputs": [],
   "source": [
    "choose_element_to_normalize = 'Zr+'"
   ]
  },
  {
   "cell_type": "markdown",
   "id": "ba67fe24",
   "metadata": {},
   "source": [
    "<p>If you included the option of 'ratio_of_element' in 'type_of_plot', then you will have to define some of the parameters to achieve your goal. <br>\n",
    "<strong>Parameters to declare:</strong><br>\n",
    "<strong>ratio_of_element_numerator</strong> = Choose the element of your choise for numerator to calculate the ratio. For example, if you want to estimate the ratio between O18/O16, you have to declare the symbol of O18 here. Note: Symbol has to be declared as per naming convention followed in your ToF-SIMS file. <br>\n",
    "<strong>ratio_of_element_denominator</strong> = Choose the element of your choise for denominator to calculate the ratio. For example, if you want to estimate the ratio between O18/O16, you have to declare the symbol of O16 here. Note: Symbol has to be declared as per naming convention followed in your ToF-SIMS file. <br>\n",
    "<strong>axis_of_ratio_of_element_to_plot</strong> = Choose between the options 'primary' or 'secondary' to create plot for the ratio of two elements chosen below, along the primary y-axis or secondary y-axis. <br>\n",
    "</p>\n"
   ]
  },
  {
   "cell_type": "code",
   "execution_count": 342,
   "id": "4d0a715c",
   "metadata": {},
   "outputs": [],
   "source": [
    "ratio_of_element_numerator = '^10B+'\n",
    "ratio_of_element_denominator = 'B+'\n",
    "axis_of_ratio_of_element_to_plot = 'secondary'\n",
    "adjust_elemental_ratio_to_natural_abundance = 'yes'\n",
    "natural_abundance_of_ratio = 0.2"
   ]
  },
  {
   "cell_type": "markdown",
   "id": "b5a4836a",
   "metadata": {},
   "source": [
    "<h2 style=\"color:brown; text-align:center\">ToF-SIMS data visualized parameters</h2>"
   ]
  },
  {
   "cell_type": "markdown",
   "id": "8b166990",
   "metadata": {},
   "source": [
    "<p style=\"font-size: 16px\"> \n",
    "Give the title that you are intend to choose for the plot under title_of_the_plot. Title has to be given within the inverted comma. <br> Place \\n symbol if you want to have a line break in your title. <br> If you are trying to visualize multiple plots and each need to have the title with its corresponding filename at the end, you can change this in 'type_of_title'. <br><br><br>\n",
    "<strong> Options of type_of_title: </strong><br><br>\n",
    "<strong> 'with_filename' </strong> = Whatever the title you type, at the end of it, ToF-SIMS input filename will be added in the plot title. <br>\n",
    "<strong> 'without_filename' </strong> = Whatever the title you type in title_of_the_plot, it will be displayed as such.\n",
    "\n",
    "</p>\n",
    "\n",
    "\n"
   ]
  },
  {
   "cell_type": "code",
   "execution_count": 382,
   "id": "3a45ff84",
   "metadata": {},
   "outputs": [],
   "source": [
    "type_of_title = 'without_filename'\n",
    "title_of_the_plot = 'Intensities mean normalized with respect to the pristine glass'"
   ]
  },
  {
   "cell_type": "markdown",
   "id": "1e648648",
   "metadata": {},
   "source": [
    "#### Choose the position of the legend to be placed\n",
    "#### Options:\n",
    "#### 0 = best (Automatically finds the best position); 1 = upper right; 2 = upper left; 3 = lower left; 4 = lower right; 5 = right; 6 = center left; 7 = center right; 8 = lower center; 9 = upper center; 10 = center\n"
   ]
  },
  {
   "cell_type": "code",
   "execution_count": 383,
   "id": "20127619",
   "metadata": {},
   "outputs": [],
   "source": [
    "primary_legend_pos = 0\n",
    "secondary_legend_pos = 4"
   ]
  },
  {
   "cell_type": "markdown",
   "id": "27ab33fa",
   "metadata": {},
   "source": [
    "#### Based on Zr profile, Choose number of layers to cut from the starting. If you choose 0, no layers are removed, 1 will remove only top 1 layer and so on."
   ]
  },
  {
   "cell_type": "code",
   "execution_count": 384,
   "id": "73eb34a8",
   "metadata": {},
   "outputs": [],
   "source": [
    "number_of_layers_to_cut = 0"
   ]
  },
  {
   "cell_type": "markdown",
   "id": "06864f8f",
   "metadata": {},
   "source": [
    "<h2 style=\"color:brown; text-align:center\">Customizing the properties and labels of the plot</h2>"
   ]
  },
  {
   "cell_type": "markdown",
   "id": "0eae075b",
   "metadata": {},
   "source": [
    "#### Give the labels that you are intend to choose for the x_axis and y_axis. Label has to be given within the inverted quotation."
   ]
  },
  {
   "cell_type": "code",
   "execution_count": 385,
   "id": "723c9946",
   "metadata": {},
   "outputs": [],
   "source": [
    "primary_x_axis_label = 'Depth (nm)'\n",
    "primary_y_axis_label = '$1^{o}$ Intensity'\n",
    "secondary_y_axis_label = '$2^{o}$ Intensity'\n",
    "\n",
    "primary_yaxis_legend_title = '$1^{o}$ y-axis'\n",
    "secondary_yaxis_legend_title = '$2^{o}$ y-axis'"
   ]
  },
  {
   "cell_type": "markdown",
   "id": "4b9c6ba8",
   "metadata": {},
   "source": [
    "#### If you want to change the color of the grid, you can choose the color of your choice\n",
    "<p>There are some themes i have set in built, so you can simply choose one of them to customize the color of the grid.\n",
    "The available themes are: <p style=\"color:green;\">'primary', 'success', 'info', 'warning', 'danger', 'inverse', 'gray', 'plain' </p>\n",
    "'plain' can be set if you want to remove the grid completely from the plot.\n",
    "You can customize the opacity of the plot from 0.1 to 1 in 'grid_opacity' parameter.\n",
    "</p>"
   ]
  },
  {
   "cell_type": "code",
   "execution_count": 386,
   "id": "669fd8d9",
   "metadata": {},
   "outputs": [],
   "source": [
    "theme_color = 'gray'\n",
    "grid_opacity = 0.1"
   ]
  },
  {
   "cell_type": "markdown",
   "id": "c93a276e",
   "metadata": {},
   "source": [
    "<p>\n",
    "To customize the style of the lines for the primary axis data and secondary axis data individually, declare it below under the 'primary_axis_plot_linestyles' and 'secondary_axis_plot_linestyles'. \n",
    "The following linestyles options are available.\n",
    "    <li>'solid'</li>\n",
    "    <li>'dotted'</li>\n",
    "    <li>'dashed'</li>\n",
    "    <li>'dashdot'</li>\n",
    "</p>\n",
    "\n",
    "<p>\n",
    "In some cases, the plot y-axis range coming by default is not the target of your analysis, in such cases you have an option to define the range from which y-axis should start and end in below line. \n",
    "    <li>primary_axis_y_limit = [start, end]</li>\n",
    "    <li>secondary_axis_y_limit = [start, end]</li>\n",
    "    \n",
    "       If you want python to select the range by itself based on the range of data, leave the square bracket empty as shown below. \n",
    "</p>\n",
    "\n",
    "<p>\n",
    "    <li style=\"color:green\">primary_axis_y_limit = [ ]</li>\n",
    "    <li style=\"color:green\">secondary_axis_y_limit = [ ]</li>\n",
    "    \n",
    "    I left empty square bracket for 'secondary_axis_y_limit' and defined start and end region for the 'primary_axis_y_limit' in the below cell, use that as reference as you wish.\n",
    "</p>"
   ]
  },
  {
   "cell_type": "code",
   "execution_count": 387,
   "id": "cf13ad97",
   "metadata": {},
   "outputs": [],
   "source": [
    "primary_axis_plot_linestyles = 'solid'\n",
    "secondary_axis_plot_linestyles = 'dotted'\n",
    "primary_axis_y_limit = [0.0, 1.7]\n",
    "secondary_axis_y_limit = [0.0, 22]\n",
    "primary_axis_x_limit = [0.0, 100]\n"
   ]
  },
  {
   "cell_type": "markdown",
   "id": "127846eb",
   "metadata": {},
   "source": [
    "<p>\n",
    "If you want to customize your plot beyond the available options given here, I allow you to export the processed data right before the data being visualized. This will help you avoid doing math to process the data or mean normalize or element normalize. So you will get the output directly for the selected atoms, with normalization parameters you have selected. The file will be stored in the form of '.csv', and the filename will follow a specific pattern as below:\n",
    "</p>\n",
    "<p>your_tofsims_filename + type of normalization + 'processed'.csv</p>\n",
    "For instance, if my tofsims input filename is 'tofsims_ph9.txt', and i process the 'element_normalization' method, the filename will be as follows:\n",
    "<p style=\"color:green;\">tofsims_ph9_element_processed.txt</p>\n",
    "If you choose mean_normalization, you will see 'mean' in the place of 'element'.\n",
    "If you choose raw_data as type_of_plot, you will see 'raw' in the place of 'element'.\n"
   ]
  },
  {
   "cell_type": "code",
   "execution_count": 388,
   "id": "bb339444",
   "metadata": {},
   "outputs": [],
   "source": [
    "export_data = 'yes'"
   ]
  },
  {
   "cell_type": "code",
   "execution_count": 389,
   "id": "fcbe2773",
   "metadata": {},
   "outputs": [],
   "source": [
    "interactive_mode = 'yes'"
   ]
  },
  {
   "cell_type": "code",
   "execution_count": 390,
   "id": "757e5a23",
   "metadata": {},
   "outputs": [],
   "source": [
    "pilot_mode = 'no'"
   ]
  },
  {
   "cell_type": "markdown",
   "id": "be65fe3c",
   "metadata": {},
   "source": [
    "<h2 style=\"color:brown; text-align:center\">Define functions</h2>"
   ]
  },
  {
   "cell_type": "code",
   "execution_count": 393,
   "id": "addf3b0d",
   "metadata": {},
   "outputs": [],
   "source": [
    "def tof_sims_file_process(filepath):\n",
    "    x1_1 = open(filepath).readlines()\n",
    "    file_name = filepath.strip('.TXT')\n",
    "    depth = []\n",
    "    dict_all_elements_raw_p2p = {}\n",
    "    dict_all_elements_raw_p2p_secondary = {}\n",
    "    dict_all_elements_raw_p2p_ratio = {}\n",
    "    dict_all_elements_raw_p2p_element_to_norm = {}\n",
    "    list_of_elements_in_file = []\n",
    "    for lines1_1 in x1_1:\n",
    "        r23 = re.search(r'inf', lines1_1)\n",
    "        if not r23:\n",
    "            r1 = re.search(r'%s' %(one_sample_element), lines1_1)\n",
    "            if r1:\n",
    "                for lines1_22 in (lines1_1.strip('#').split()):\n",
    "                    list_of_elements_in_file.append(lines1_22)\n",
    "            if lines1_1[0] != '#':\n",
    "                dot_formatted = (lines1_1.replace(',', '.'))\n",
    "                splitted = (dot_formatted.split())\n",
    "                depth.append(float(splitted[0]))\n",
    "                if list_of_elements_to_plot_in_primary_y_axis != []:\n",
    "                    for lines1_23 in list_of_elements_to_plot_in_primary_y_axis:\n",
    "                        position_of_each_atom = ((list_of_elements_in_file.index(lines1_23) + 1)*2)\n",
    "                        dict_all_elements_raw_p2p.setdefault('%s' %(lines1_23), []).append(float(splitted[position_of_each_atom]))\n",
    "                if list_of_elements_to_plot_in_secondary_y_axis != []:\n",
    "                    for lines1_24 in list_of_elements_to_plot_in_secondary_y_axis:\n",
    "                        position_of_each_atom = ((list_of_elements_in_file.index(lines1_24) + 1)*2)\n",
    "                        dict_all_elements_raw_p2p_secondary.setdefault('%s' %(lines1_24), []).append(float(splitted[position_of_each_atom]))\n",
    "                for lines1_25 in [ratio_of_element_numerator, ratio_of_element_denominator]:\n",
    "                    position_of_each_atom = ((list_of_elements_in_file.index(lines1_25) + 1)*2)\n",
    "                    dict_all_elements_raw_p2p_ratio.setdefault('%s' %(lines1_25), []).append(float(splitted[position_of_each_atom]))\n",
    "                for lines1_26 in [choose_element_to_normalize]:\n",
    "                    position_of_each_atom = ((list_of_elements_in_file.index(lines1_26) + 1)*2)\n",
    "                    dict_all_elements_raw_p2p_element_to_norm.setdefault('%s' %(lines1_26), []).append(float(splitted[position_of_each_atom]))\n",
    "                \n",
    "    return {'file_name': file_name, 'depth': depth, 'primary_axis_elements': dict_all_elements_raw_p2p, \n",
    "            'secondary_axis_elements': dict_all_elements_raw_p2p_secondary, 'ratio_of_elements': dict_all_elements_raw_p2p_ratio,\n",
    "            'element_to_normalize': dict_all_elements_raw_p2p_element_to_norm\n",
    "           }\n",
    "\n",
    "def filename_designer():\n",
    "    if 'raw_data' in type_of_plot:\n",
    "        return 'raw'\n",
    "    elif 'mean_normalized' in type_of_plot:\n",
    "        return 'mean'\n",
    "    elif 'element_normalized' in type_of_plot:\n",
    "        return 'element'\n",
    "\n",
    "def write_data_as_file(data_in_dict):\n",
    "    file_name = data_in_dict.get('file_name')\n",
    "    only_depth = {}\n",
    "    only_depth['depth'] = data_in_dict.get('depth')\n",
    "    if list_of_elements_to_plot_in_primary_y_axis != []:\n",
    "        primary_axis_data = data_in_dict.get('primary_axis_elements')\n",
    "        all_data_compiled = {k: v for d in [only_depth,primary_axis_data] for k, v in d.items()}\n",
    "    if list_of_elements_to_plot_in_secondary_y_axis != []:\n",
    "        secondary_axis_data = data_in_dict.get('secondary_axis_elements')\n",
    "        all_data_compiled = {k: v for d in [all_data_compiled,secondary_axis_data] for k, v in d.items()}\n",
    "    with open(\"%s_%s_processed.csv\" %(file_name, filename_designer()), \"w\", encoding='UTF8', newline='') as outfile:\n",
    "        writer = csv.writer(outfile)\n",
    "        writer.writerow(all_data_compiled.keys())\n",
    "        writer.writerows(zip(*all_data_compiled.values()))\n",
    "    \n",
    "def tof_sims_data_plot_interactive(data_in_dict):\n",
    "    depth = data_in_dict.get('depth')\n",
    "    fig = make_subplots(specs=[[{\"secondary_y\": True}]])\n",
    "    if 'primary_axis_elements' in data_in_dict.keys():\n",
    "        prim_df = pd.DataFrame.from_dict(data_in_dict.get('primary_axis_elements'))\n",
    "        prim_df.insert(0, 'Depth', depth)\n",
    "        for lines6_1, lines6_2 in data_in_dict.get('primary_axis_elements').items():\n",
    "            fig.add_trace(\n",
    "                go.Scatter(\n",
    "                    x = prim_df['Depth'],\n",
    "                    y = prim_df[lines6_1], name=lines6_1, visible = True\n",
    "                ),\n",
    "                secondary_y=False,\n",
    "            )\n",
    "    if 'secondary_axis_elements' in data_in_dict.keys():\n",
    "        second_df = pd.DataFrame.from_dict(data_in_dict.get('secondary_axis_elements'))\n",
    "        second_df.insert(0, 'Depth', depth)\n",
    "        for lines6_1, lines6_2 in data_in_dict.get('secondary_axis_elements').items():\n",
    "            fig.add_trace(\n",
    "                go.Scatter(\n",
    "                    x = second_df['Depth'],\n",
    "                    y = second_df[lines6_1], name=lines6_1, visible = True\n",
    "                ),\n",
    "                secondary_y=True,\n",
    "            )\n",
    "    fig.update_layout(\n",
    "        title=title_of_the_plot,\n",
    "        xaxis_title=primary_x_axis_label,\n",
    "        yaxis_title=primary_y_axis_label,\n",
    "        legend_title=\"Elements\",\n",
    "    )\n",
    "    fig.update_yaxes(\n",
    "        title_text=secondary_y_axis_label,\n",
    "        secondary_y=True\n",
    "    )\n",
    "    if primary_axis_y_limit != []:\n",
    "        fig.update_yaxes(range=primary_axis_y_limit, secondary_y=False)\n",
    "    if secondary_axis_y_limit != []:\n",
    "        fig.update_yaxes(range=secondary_axis_y_limit, secondary_y=True)\n",
    "    if primary_axis_x_limit != []:\n",
    "        fig.update_xaxes(range=primary_axis_x_limit)\n",
    "    fig.update()\n",
    "    fig.show()\n",
    "\n",
    "def tof_sims_data_plot(data_in_dict):\n",
    "\n",
    "    if export_data == 'yes':\n",
    "        write_data_as_file(data_in_dict)\n",
    "\n",
    "    fig, ax = plt.subplots(1,1, figsize=(6, 3), dpi=300)\n",
    "\n",
    "    ax.patch.set_facecolor(theme_color_code.get(theme_color))\n",
    "    ax.patch.set_alpha(grid_opacity)\n",
    "    ax.grid(True, \"both\", \"both\", color=\"w\", linewidth=1.0)\n",
    "    ax.set_axisbelow(True)\n",
    "    \n",
    "    depth = data_in_dict.get('depth')\n",
    "    if 'primary_axis_elements' in data_in_dict.keys():\n",
    "        prim_len_ele = len(data_in_dict.get('primary_axis_elements').keys())\n",
    "        for lines3_1, lines3_2 in data_in_dict.get('primary_axis_elements').items():\n",
    "            ax.plot(depth[number_of_layers_to_cut:], lines3_2[number_of_layers_to_cut:], label='%s' %(lines3_1), linestyle=primary_axis_plot_linestyles)\n",
    "            ax.set_xlabel(primary_x_axis_label)\n",
    "            ax.set_ylabel(primary_y_axis_label)\n",
    "            \n",
    "            if prim_len_ele <= 6:\n",
    "                plt.legend(title=primary_yaxis_legend_title, loc=(1.12, 0.50), ncol=1, fontsize=8)\n",
    "\n",
    "            if prim_len_ele > 6:\n",
    "                plt.legend(title=primary_yaxis_legend_title, loc=(1.12, 0.50), ncol=2, fontsize=8)\n",
    "            \n",
    "        if primary_axis_y_limit != []:\n",
    "            ax.set_ylim(primary_axis_y_limit)\n",
    "        if primary_axis_x_limit != []:\n",
    "            ax.set_xlim(primary_axis_x_limit)\n",
    "        plt.axvline(x=10, color='black', linestyle='--')\n",
    "    if 'secondary_axis_elements' in data_in_dict.keys():\n",
    "        sec_len_ele = len(data_in_dict.get('secondary_axis_elements').keys())\n",
    "        dict_all_elements_raw_p2p_secondary = data_in_dict.get('secondary_axis_elements')\n",
    "        ax2 = ax.twinx()\n",
    "        for lines3_1_1, lines3_2_1 in data_in_dict.get('secondary_axis_elements').items():\n",
    "#             ax2.plot(depth[number_of_layers_to_cut:], lines3_2_1[number_of_layers_to_cut:], label='%s' %(lines3_1_1), linestyle=secondary_axis_plot_linestyles)\n",
    "            ax2.plot(depth[number_of_layers_to_cut:], lines3_2_1[number_of_layers_to_cut:], label='%s' %(lines3_1_1), linestyle=secondary_axis_plot_linestyles, color='red')\n",
    "\n",
    "            if sec_len_ele <= 4:\n",
    "                plt.legend(title=secondary_yaxis_legend_title, loc=(1.12, -0.1), ncol=1, fontsize=8)\n",
    "\n",
    "            if sec_len_ele > 4:\n",
    "                plt.legend(title=secondary_yaxis_legend_title, loc=(1.12, -0.1), ncol=2, fontsize=8)\n",
    "            \n",
    "            ax2.set_ylabel(secondary_y_axis_label)\n",
    "        if secondary_axis_y_limit != []:\n",
    "            ax2.set_ylim(secondary_axis_y_limit)\n",
    "\n",
    "    file_name = data_in_dict.get('file_name')\n",
    "    if type_of_title == 'with_filename':\n",
    "        plt.title('%s %s' %(title_of_the_plot, file_name))\n",
    "    if type_of_title == 'without_filename':\n",
    "        plt.title('%s' %(title_of_the_plot))\n",
    "        \n",
    "    if pilot_mode != 'yes':\n",
    "        tof_sims_data_plot_interactive(data_in_dict)\n",
    "        plt.savefig('%s_%s.png' %(file_name, filename_designer()), dpi=300, facecolor='w', bbox_inches='tight')\n",
    "        plt.show()\n",
    "    else:\n",
    "        plt.savefig('%s_%s.png' %(file_name, filename_designer()), dpi=300, facecolor='w', bbox_inches='tight')\n",
    "        plt.close()\n",
    "\n",
    "\n",
    "def element_mean_intensity_pristine_glass(dictionary_of_element_data, depth):\n",
    "    dict_mean_norm_to_pg = {}\n",
    "    dict_mean_values = {}\n",
    "    if type_of_mean_normalization == 'start_end':\n",
    "        try:\n",
    "            value_close_to_the_start = min(depth, key=lambda x:abs(x-pristine_glass_start_region))\n",
    "            start_2 = depth.index(value_close_to_the_start)\n",
    "        except:\n",
    "            print('ERROR: The value %s chosen for pristine_glass_start_region is not available in data being visualized. Change it to get the plot for %s' %(pristine_glass_start_region, file_name))\n",
    "        try:\n",
    "            value_close_to_the_end = min(depth, key=lambda x:abs(x-pristine_glass_end_region))\n",
    "            end_2 = depth.index(value_close_to_the_end)\n",
    "        except:\n",
    "            print('ERROR: The value %s chosen for pristine_glass_end_region is not available in data being visualized. Change it to get the plot for %s' %(pristine_glass_end_region, file_name))\n",
    "            \n",
    "        for lines2_1, lines2_2 in dictionary_of_element_data.items():\n",
    "            mean_values = mean(lines2_2[start_2:end_2])\n",
    "            mean_normalized = np.array(lines2_2)/mean_values\n",
    "            dict_mean_values[lines2_1] = mean_values\n",
    "            dict_mean_norm_to_pg.setdefault(lines2_1, mean_normalized)\n",
    "\n",
    "    if type_of_mean_normalization == 'partition':\n",
    "        for lines4_1_1, lines4_2_1 in dictionary_of_element_data.items():\n",
    "            if mean_normalize_based_on_which_partition == 'last':\n",
    "                target_glass_start = depth[-1] - mean_normalize_based_on_number_of_layers\n",
    "                value_close_to_the_start = min(depth, key=lambda x:abs(x-target_glass_start))\n",
    "                start_3 = depth.index(value_close_to_the_start)\n",
    "                mean_values = mean(lines4_2_1[start_3:])\n",
    "                mean_normalized = np.array(lines4_2_1)/mean_values\n",
    "                dict_mean_values[lines4_1_1] = mean_values\n",
    "                dict_mean_norm_to_pg.setdefault(lines4_1_1, mean_normalized)\n",
    "                \n",
    "            if mean_normalize_based_on_which_partition == 'first':\n",
    "                target_glass_end = depth[0] + mean_normalize_based_on_number_of_layers\n",
    "                value_close_to_the_end = min(depth, key=lambda x:abs(x-target_glass_end))\n",
    "                end_3 = depth.index(value_close_to_the_end)\n",
    "                mean_values_1 = mean(lines4_2_1[:end_3])\n",
    "                mean_normalized_1 = np.array(lines4_2_1)/mean_values_1\n",
    "                dict_mean_values[lines4_1_1] = mean_values_1\n",
    "                dict_mean_norm_to_pg.setdefault(lines4_1_1, mean_normalized_1)\n",
    "\n",
    "    return {'depth_wise_mean_normalized_data': dict_mean_norm_to_pg, 'pristine_glass_mean_values': dict_mean_values}\n"
   ]
  },
  {
   "cell_type": "code",
   "execution_count": 394,
   "id": "3d84a884",
   "metadata": {
    "collapsed": true
   },
   "outputs": [
    {
     "name": "stdout",
     "output_type": "stream",
     "text": [
      "Mean normalization is performed against the pristine glass region from 457.102 to the 486.537.\n"
     ]
    },
    {
     "data": {
      "application/vnd.plotly.v1+json": {
       "config": {
        "plotlyServerURL": "https://plot.ly"
       },
       "data": [
        {
         "name": "Zr+",
         "type": "scatter",
         "visible": true,
         "x": [
          0,
          1.73145,
          3.4629,
          5.19435,
          6.9258,
          8.65724,
          10.3887,
          12.1201,
          13.8516,
          15.583,
          17.3145,
          19.0459,
          20.7774,
          22.5088,
          24.2403,
          25.9717,
          27.7032,
          29.4346,
          31.1661,
          32.8975,
          34.629,
          36.3604,
          38.0919,
          39.8233,
          41.5548,
          43.2862,
          45.0177,
          46.7491,
          48.4806,
          50.212,
          51.9435,
          53.6749,
          55.4064,
          57.1378,
          58.8693,
          60.6007,
          62.3322,
          64.0636,
          65.7951,
          67.5265,
          69.258,
          70.9894,
          72.7208,
          74.4523,
          76.1837,
          77.9152,
          79.6466,
          81.3781,
          83.1095,
          84.841,
          86.5724,
          88.3039,
          90.0353,
          91.7668,
          93.4982,
          95.2297,
          96.9611,
          98.6926,
          100.424,
          102.155,
          103.887,
          105.618,
          107.35,
          109.081,
          110.813,
          112.544,
          114.276,
          116.007,
          117.739,
          119.47,
          121.201,
          122.933,
          124.664,
          126.396,
          128.127,
          129.859,
          131.59,
          133.322,
          135.053,
          136.784,
          138.516,
          140.247,
          141.979,
          143.71,
          145.442,
          147.173,
          148.905,
          150.636,
          152.367,
          154.099,
          155.83,
          157.562,
          159.293,
          161.025,
          162.756,
          164.488,
          166.219,
          167.951,
          169.682,
          171.413,
          173.145,
          174.876,
          176.608,
          178.339,
          180.071,
          181.802,
          183.534,
          185.265,
          186.996,
          188.728,
          190.459,
          192.191,
          193.922,
          195.654,
          197.385,
          199.117,
          200.848,
          202.58,
          204.311,
          206.042,
          207.774,
          209.505,
          211.237,
          212.968,
          214.7,
          216.431,
          218.163,
          219.894,
          221.625,
          223.357,
          225.088,
          226.82,
          228.551,
          230.283,
          232.014,
          233.746,
          235.477,
          237.208,
          238.94,
          240.671,
          242.403,
          244.134,
          245.866,
          247.597,
          249.329,
          251.06,
          252.792,
          254.523,
          256.254,
          257.986,
          259.717,
          261.449,
          263.18,
          264.912,
          266.643,
          268.375,
          270.106,
          271.837,
          273.569,
          275.3,
          277.032,
          278.763,
          280.495,
          282.226,
          283.958,
          285.689,
          287.42,
          289.152,
          290.883,
          292.615,
          294.346,
          296.078,
          297.809,
          299.541,
          301.272,
          303.004,
          304.735,
          306.466,
          308.198,
          309.929,
          311.661,
          313.392,
          315.124,
          316.855,
          318.587,
          320.318,
          322.049,
          323.781,
          325.512,
          327.244,
          328.975,
          330.707,
          332.438,
          334.17,
          335.901,
          337.633,
          339.364,
          341.095,
          342.827,
          344.558,
          346.29,
          348.021,
          349.753,
          351.484,
          353.216,
          354.947,
          356.678,
          358.41,
          360.141,
          361.873,
          363.604,
          365.336,
          367.067,
          368.799,
          370.53,
          372.261,
          373.993,
          375.724,
          377.456,
          379.187,
          380.919,
          382.65,
          384.382,
          386.113,
          387.845,
          389.576,
          391.307,
          393.039,
          394.77,
          396.502,
          398.233,
          399.965,
          401.696,
          403.428,
          405.159,
          406.89,
          408.622,
          410.353,
          412.085,
          413.816,
          415.548,
          417.279,
          419.011,
          420.742,
          422.473,
          424.205,
          425.936,
          427.668,
          429.399,
          431.131,
          432.862,
          434.594,
          436.325,
          438.057,
          439.788,
          441.519,
          443.251,
          444.982,
          446.714,
          448.445,
          450.177,
          451.908,
          453.64,
          455.371,
          457.102,
          458.834,
          460.565,
          462.297,
          464.028,
          465.76,
          467.491,
          469.223,
          470.954,
          472.686,
          474.417,
          476.148,
          477.88,
          479.611,
          481.343,
          483.074,
          484.806,
          486.537
         ],
         "xaxis": "x",
         "y": [
          0.02452099619641048,
          0.8599214161476437,
          0.9172291956213667,
          0.9696220711951136,
          1.144749926959067,
          1.2266715451638712,
          1.3517509345143666,
          1.3539380667498562,
          1.421822719416328,
          1.448505732689299,
          1.5134266983040852,
          1.5708966696065072,
          1.5975010444170787,
          1.6126340335251055,
          1.6360781251279923,
          1.591657223680007,
          1.6624809888786647,
          1.595815232379387,
          1.665941081224248,
          1.5790996442155678,
          1.6176865547342811,
          1.5962870631537847,
          1.6714261139766213,
          1.6159810830809895,
          1.6742964178542075,
          1.620807518710766,
          1.618158385508679,
          1.6590700455720813,
          1.6086873656934246,
          1.623156842774955,
          1.6502674526872239,
          1.590202412125614,
          1.5233203998547373,
          1.506668705441618,
          1.4947598932919752,
          1.4121747630606745,
          1.3967321350069493,
          1.3702702924094772,
          1.3887060969382878,
          1.3169681596142346,
          1.2967335002580325,
          1.3444523022229018,
          1.4044092148987122,
          1.379800291071531,
          1.3875805839451933,
          1.3395079088995256,
          1.3534564061676584,
          1.3528666176996613,
          1.3280856722359808,
          1.298262035370925,
          1.3085685888491752,
          1.2841218568506934,
          1.3012945310772104,
          1.3049610493865926,
          1.2932635781046493,
          1.2633711325849937,
          1.3131984283229527,
          1.2926787045405521,
          1.3513085931633686,
          1.2738103884685432,
          1.3705995909707755,
          1.2803816149828116,
          1.3059980941094878,
          1.2305788937643523,
          1.389974142144482,
          1.2905308915362625,
          1.3808668252178258,
          1.3482711825531835,
          1.2837139198269953,
          1.3647803447532036,
          1.2905308915362625,
          1.3799231636690306,
          1.3177791187577308,
          1.3634828101236098,
          1.3601849096067258,
          1.3697345678843798,
          1.3178135230850305,
          1.3306266775522686,
          1.2967679045853324,
          1.3910357613868767,
          1.3410216993007185,
          1.3144369841057468,
          1.3204528264793178,
          1.3767677953652457,
          1.3367555627155392,
          1.3728555318608646,
          1.370068781349578,
          1.338387310810331,
          1.3762615602635482,
          1.4109902712207802,
          1.3927068287128688,
          1.3653455587017007,
          1.3611089115399213,
          1.3895956945441836,
          1.4287232444918945,
          1.4308563127844842,
          1.358042011506336,
          1.393463723913465,
          1.43999311913454,
          1.4425144648352277,
          1.4521378466713815,
          1.3902051426277806,
          1.4004232278358313,
          1.428610201702195,
          1.3536235129002576,
          1.376281219879148,
          1.4172027097503501,
          1.3787976506759358,
          1.4020205716033236,
          1.3943533215193606,
          1.4299912896980884,
          1.3830048084143154,
          1.3381268209036323,
          1.297701736326328,
          1.363271469255911,
          1.3211261683136144,
          1.3114241480150615,
          1.3975578388621452,
          1.321455466874913,
          1.3482711825531835,
          1.324807431334697,
          1.4063161976119027,
          1.3068926066192834,
          1.3320864040105618,
          1.2933422165670487,
          1.3095269951096706,
          1.336165774247542,
          1.3172040750014335,
          1.3060669027640874,
          1.3518148282650662,
          1.3294126962889745,
          1.3180494384722294,
          1.290825785770261,
          1.3030196623461021,
          1.3687958212394842,
          1.3431695123050083,
          1.316904265863535,
          1.3422700848913123,
          1.3283658217582797,
          1.334686388173649,
          1.325190793838895,
          1.2786712284256196,
          1.3014223185786098,
          1.3389770992783283,
          1.2847853688771902,
          1.3223843837120084,
          1.2898575497019658,
          1.3107852105080646,
          1.310052889826968,
          1.2894348679665677,
          1.3170271384610344,
          1.312962512935754,
          1.2475009078919705,
          1.29516564591394,
          1.3116993826334602,
          1.2359803731504262,
          1.2487689530981643,
          1.2440457304502872,
          1.3211261683136144,
          1.25384604882684,
          1.3205216351339173,
          1.3231314491048047,
          1.307398841720981,
          1.2619015763189008,
          1.2921380651115548,
          1.2527205358337452,
          1.2342355822659345,
          1.2797230178602148,
          1.2488131872332642,
          1.3324157025718601,
          1.3081901412488772,
          1.3242274726744996,
          1.2712546384405556,
          1.3141420898717484,
          1.2791184846805177,
          1.2777619712041242,
          1.2654796263580836,
          1.2720950870074514,
          1.2330658351377402,
          1.2307951495359513,
          1.2743067937624408,
          1.1939382851900293,
          1.2482774627081668,
          1.2297286153896563,
          1.192788197677435,
          1.1981356131206091,
          1.2374843337438188,
          1.211425513266145,
          1.229998935104155,
          1.1579611886422032,
          1.258751122919016,
          1.178107379728206,
          1.209931382480552,
          1.1814249398606897,
          1.2123446002954403,
          1.1990104660148049,
          1.1751436926765202,
          1.235823096225627,
          1.1446024798420678,
          1.2205426600006009,
          1.2133177512676356,
          1.1754385869105186,
          1.1824767292952847,
          1.157366485270306,
          1.2056308415680728,
          1.162360027632682,
          1.1879273577203584,
          1.1944199457722269,
          1.1614261958916865,
          1.189485382256651,
          1.1427446461678767,
          1.1927243039267352,
          1.1456444394688627,
          1.1479396995901516,
          1.1306392378622352,
          1.1534984559010248,
          1.173561093620728,
          1.1534738813815248,
          1.1647142666007706,
          1.1451726086944651,
          1.1753599484481192,
          1.1817788129414881,
          1.1407197057610865,
          1.12964642727444,
          1.1234978824955697,
          1.1072000611632486,
          1.115363716541109,
          1.0720290088550186,
          1.077297785835793,
          1.116666166074603,
          1.0981124038521926,
          1.078723107966786,
          1.1345564162705164,
          1.1225149017155747,
          1.0964462514301005,
          1.1198755983212874,
          1.0989381077073885,
          1.113338776134319,
          1.1074851255894471,
          1.0917082840705234,
          1.066362124658346,
          1.0995229812714857,
          1.108767915507341,
          1.0981369783716923,
          1.0319037334156125,
          1.0711639857686228,
          1.0723976266475168,
          1.0956008879593047,
          1.095310908629206,
          1.0607001553655733,
          1.0417728604467649,
          1.0912118787766258,
          1.0275196391368338,
          1.008213896617727,
          1.0640472049214573,
          1.0473512763732378,
          1.0799075998066803,
          1.0341989935369014,
          1.052266180273214,
          1.0531950971103095,
          1.0367989776999886,
          1.0281782362594305,
          0.9952139758022899,
          1.0643126097320559,
          0.9996914532551681,
          1.0154977841974917,
          0.9868144050372305,
          1.0720486684706185,
          1.0359093800940933,
          1.0181714919190787,
          1.0002271777802656,
          1.0081794922904272,
          0.9914933935500078,
          0.9998339854682674,
          0.9596300715664619,
          0.9692485384987153,
          1.0066607869853346,
          0.9745566347106897,
          0.975706722223284,
          0.9694058154235147,
          1.0261631256604402,
          0.9907610728689115
         ],
         "yaxis": "y"
        },
        {
         "name": "^10B+/B+",
         "type": "scatter",
         "visible": true,
         "x": [
          0,
          1.73145,
          3.4629,
          5.19435,
          6.9258,
          8.65724,
          10.3887,
          12.1201,
          13.8516,
          15.583,
          17.3145,
          19.0459,
          20.7774,
          22.5088,
          24.2403,
          25.9717,
          27.7032,
          29.4346,
          31.1661,
          32.8975,
          34.629,
          36.3604,
          38.0919,
          39.8233,
          41.5548,
          43.2862,
          45.0177,
          46.7491,
          48.4806,
          50.212,
          51.9435,
          53.6749,
          55.4064,
          57.1378,
          58.8693,
          60.6007,
          62.3322,
          64.0636,
          65.7951,
          67.5265,
          69.258,
          70.9894,
          72.7208,
          74.4523,
          76.1837,
          77.9152,
          79.6466,
          81.3781,
          83.1095,
          84.841,
          86.5724,
          88.3039,
          90.0353,
          91.7668,
          93.4982,
          95.2297,
          96.9611,
          98.6926,
          100.424,
          102.155,
          103.887,
          105.618,
          107.35,
          109.081,
          110.813,
          112.544,
          114.276,
          116.007,
          117.739,
          119.47,
          121.201,
          122.933,
          124.664,
          126.396,
          128.127,
          129.859,
          131.59,
          133.322,
          135.053,
          136.784,
          138.516,
          140.247,
          141.979,
          143.71,
          145.442,
          147.173,
          148.905,
          150.636,
          152.367,
          154.099,
          155.83,
          157.562,
          159.293,
          161.025,
          162.756,
          164.488,
          166.219,
          167.951,
          169.682,
          171.413,
          173.145,
          174.876,
          176.608,
          178.339,
          180.071,
          181.802,
          183.534,
          185.265,
          186.996,
          188.728,
          190.459,
          192.191,
          193.922,
          195.654,
          197.385,
          199.117,
          200.848,
          202.58,
          204.311,
          206.042,
          207.774,
          209.505,
          211.237,
          212.968,
          214.7,
          216.431,
          218.163,
          219.894,
          221.625,
          223.357,
          225.088,
          226.82,
          228.551,
          230.283,
          232.014,
          233.746,
          235.477,
          237.208,
          238.94,
          240.671,
          242.403,
          244.134,
          245.866,
          247.597,
          249.329,
          251.06,
          252.792,
          254.523,
          256.254,
          257.986,
          259.717,
          261.449,
          263.18,
          264.912,
          266.643,
          268.375,
          270.106,
          271.837,
          273.569,
          275.3,
          277.032,
          278.763,
          280.495,
          282.226,
          283.958,
          285.689,
          287.42,
          289.152,
          290.883,
          292.615,
          294.346,
          296.078,
          297.809,
          299.541,
          301.272,
          303.004,
          304.735,
          306.466,
          308.198,
          309.929,
          311.661,
          313.392,
          315.124,
          316.855,
          318.587,
          320.318,
          322.049,
          323.781,
          325.512,
          327.244,
          328.975,
          330.707,
          332.438,
          334.17,
          335.901,
          337.633,
          339.364,
          341.095,
          342.827,
          344.558,
          346.29,
          348.021,
          349.753,
          351.484,
          353.216,
          354.947,
          356.678,
          358.41,
          360.141,
          361.873,
          363.604,
          365.336,
          367.067,
          368.799,
          370.53,
          372.261,
          373.993,
          375.724,
          377.456,
          379.187,
          380.919,
          382.65,
          384.382,
          386.113,
          387.845,
          389.576,
          391.307,
          393.039,
          394.77,
          396.502,
          398.233,
          399.965,
          401.696,
          403.428,
          405.159,
          406.89,
          408.622,
          410.353,
          412.085,
          413.816,
          415.548,
          417.279,
          419.011,
          420.742,
          422.473,
          424.205,
          425.936,
          427.668,
          429.399,
          431.131,
          432.862,
          434.594,
          436.325,
          438.057,
          439.788,
          441.519,
          443.251,
          444.982,
          446.714,
          448.445,
          450.177,
          451.908,
          453.64,
          455.371,
          457.102,
          458.834,
          460.565,
          462.297,
          464.028,
          465.76,
          467.491,
          469.223,
          470.954,
          472.686,
          474.417,
          476.148,
          477.88,
          479.611,
          481.343,
          483.074,
          484.806,
          486.537
         ],
         "xaxis": "x",
         "y": [
          2.0630671561998883,
          13.665047662483895,
          18.42886120751402,
          13.01987243283224,
          14.139246043267818,
          13.609450567408327,
          12.473236810037848,
          13.707059948532343,
          12.80649078092155,
          11.624553079539757,
          11.676677991978787,
          12.732106453774069,
          11.237622274155335,
          11.91155081607249,
          11.306225134800448,
          11.490062683094854,
          11.18796743986786,
          9.29556760304756,
          11.12334933894058,
          11.109542413996977,
          10.920699606286247,
          11.082605243123087,
          9.39264494726601,
          9.41203271595047,
          10.330714535047596,
          10.544887603983176,
          9.67048755064933,
          8.383380822995377,
          8.35738891177067,
          7.298448987588261,
          6.643660451697396,
          5.453948467214839,
          4.148187301975954,
          3.045855421104866,
          2.076556476007437,
          1.261373695245681,
          0.8031999835299651,
          0.49670663256896513,
          0.3507192637143864,
          0.271528016199212,
          0.23106192134894746,
          0.2195464369821018,
          0.20774913114803825,
          0.20423095964785415,
          0.20916760333919024,
          0.20464912015910094,
          0.203709901922164,
          0.20382640526074725,
          0.2034034523103134,
          0.20398573391883426,
          0.2080881733744476,
          0.19717358696730958,
          0.1988266771651053,
          0.21041164821001113,
          0.1989872739752363,
          0.20582116991265628,
          0.20325689390836155,
          0.2034613568145294,
          0.196352600137157,
          0.20213117140410133,
          0.20565523423561066,
          0.20848359723726848,
          0.19968009376658105,
          0.19411070547891027,
          0.2011423209876516,
          0.20159473446773807,
          0.2010854057325573,
          0.19987178606413175,
          0.19518191419779274,
          0.19903136228971413,
          0.2009908027587376,
          0.2017226103548192,
          0.20472916703209176,
          0.19727410769053924,
          0.2007574739230873,
          0.20329272884305394,
          0.1956217183504123,
          0.20378196075712882,
          0.19841211633957279,
          0.19746419643345056,
          0.19777849390364424,
          0.1967904600215351,
          0.2000761216468214,
          0.2081405687383142,
          0.19352352834182543,
          0.2019374193819235,
          0.19988905932140305,
          0.20168359545111664,
          0.2012881120940775,
          0.20319100841685522,
          0.20801277865954773,
          0.20479531757267538,
          0.19918118339646668,
          0.20159419058622094,
          0.19586425754699918,
          0.19879577024737052,
          0.19780365060189917,
          0.19813363843946583,
          0.20153575328291395,
          0.20188105877862697,
          0.19758691913758708,
          0.20184158751162046,
          0.20165896807879372,
          0.20071075613415804,
          0.20616249317691132,
          0.20104902989663317,
          0.20291373054673748,
          0.19945317519604863,
          0.19925732439443483,
          0.20198340404859133,
          0.19372141372416551,
          0.20450620187222202,
          0.20363552353772682,
          0.19560270063502722,
          0.19989779167752725,
          0.19711012670119749,
          0.20059959069145508,
          0.19966959716082264,
          0.19749452294708406,
          0.20135403362158866,
          0.19917913413710608,
          0.20080335584930312,
          0.20437244603048285,
          0.19956007615981813,
          0.19568213259642564,
          0.20036976275506926,
          0.2000927426917712,
          0.20261788205585696,
          0.19822817413914715,
          0.20107469765540867,
          0.20033904189807406,
          0.19819968435324814,
          0.20083317765827777,
          0.204468060550075,
          0.19854122244328468,
          0.19833881652829,
          0.19708858718562164,
          0.206314810435913,
          0.19430293124979817,
          0.19908181925945573,
          0.20494883063226746,
          0.1964454039384892,
          0.2047779150057243,
          0.20301197119278858,
          0.19987932834311525,
          0.20057101909722488,
          0.2001764419797973,
          0.19636311875984258,
          0.19814744957317323,
          0.19672832748500899,
          0.2053376681059943,
          0.19853069589226532,
          0.1981334783285036,
          0.199965787971781,
          0.20121754152970142,
          0.19926557510395976,
          0.2010886306362746,
          0.20122311564501552,
          0.19956365275403706,
          0.19934416721132406,
          0.20367915857406327,
          0.20304877820416095,
          0.20630350326434863,
          0.1977374858523519,
          0.19639350743925574,
          0.20200713756000632,
          0.2047393114038628,
          0.20026072833142786,
          0.19558446097109522,
          0.2018563865941331,
          0.19675558279018396,
          0.20229236494007719,
          0.19767947765130445,
          0.19541867615725947,
          0.19747615877282662,
          0.19764051822930948,
          0.20560653069907725,
          0.1984730947704682,
          0.20151925935105394,
          0.19538678513264027,
          0.19951109645071927,
          0.19991461700603907,
          0.1981653288252812,
          0.20023805313139953,
          0.20316705488828343,
          0.20588160683291135,
          0.19392723313796775,
          0.1969483297040572,
          0.19865900562002164,
          0.20010409456784772,
          0.1986469102285298,
          0.1958919817140406,
          0.20431749193318827,
          0.2011719591199668,
          0.20057001391070656,
          0.20161909584918297,
          0.20590077718963568,
          0.19577053252526946,
          0.20352657513803335,
          0.1988546970912791,
          0.2048734778467184,
          0.2018095375402693,
          0.19849277238989363,
          0.1985065587540586,
          0.1939766358042564,
          0.19952512986607038,
          0.19626694209991216,
          0.2062471054756503,
          0.20365664979662612,
          0.19646863498733844,
          0.19791355201323668,
          0.2033346859417096,
          0.20344981130754142,
          0.1969040643607573,
          0.20501715695853093,
          0.20157975948276602,
          0.19972815512870776,
          0.20150757384903048,
          0.20147471147681,
          0.19822445773668415,
          0.2035735076028345,
          0.1995156626515071,
          0.19967277218527857,
          0.1958725387568445,
          0.20067858126414895,
          0.2018269684105374,
          0.2010096505841846,
          0.2014648189938576,
          0.1990928876540988,
          0.2032741293162912,
          0.19741030448512562,
          0.19884661332321774,
          0.1999225724826807,
          0.1966018098821181,
          0.19636887096027617,
          0.20321481113248416,
          0.2000748592314123,
          0.19878941863774954,
          0.19812578513849785,
          0.19404267513022713,
          0.20358636593680154,
          0.19691553512370744,
          0.2012424752859664,
          0.1982767334401867,
          0.20251051669860415,
          0.20304821542637785,
          0.197142204525871,
          0.20138048252912633,
          0.20510024839368562,
          0.2034971008478272,
          0.201770073861609,
          0.19807127570314878,
          0.19671725165720658,
          0.20534203244055585,
          0.19515055368258274,
          0.20536931163517547,
          0.20303915665584243,
          0.2033923270235037,
          0.19893016337923367,
          0.20116169904517672,
          0.19902993570155217,
          0.2028156381480264,
          0.19570555494984734,
          0.19531080990111138,
          0.20279067744816187,
          0.19730159982838258,
          0.20130038988214435,
          0.20051027548569186,
          0.2039612880527051,
          0.20547178828785032,
          0.1965385933828055,
          0.19486202422189805,
          0.1969746946393076,
          0.19902847602768903,
          0.1977678305628955,
          0.20364272113037624,
          0.2004038577137138,
          0.1972640567949814,
          0.19932615884463156,
          0.20146517495539126,
          0.2011048615687488,
          0.20050541884416928
         ],
         "yaxis": "y2"
        }
       ],
       "layout": {
        "legend": {
         "title": {
          "text": "Elements"
         }
        },
        "template": {
         "data": {
          "bar": [
           {
            "error_x": {
             "color": "#2a3f5f"
            },
            "error_y": {
             "color": "#2a3f5f"
            },
            "marker": {
             "line": {
              "color": "#E5ECF6",
              "width": 0.5
             },
             "pattern": {
              "fillmode": "overlay",
              "size": 10,
              "solidity": 0.2
             }
            },
            "type": "bar"
           }
          ],
          "barpolar": [
           {
            "marker": {
             "line": {
              "color": "#E5ECF6",
              "width": 0.5
             },
             "pattern": {
              "fillmode": "overlay",
              "size": 10,
              "solidity": 0.2
             }
            },
            "type": "barpolar"
           }
          ],
          "carpet": [
           {
            "aaxis": {
             "endlinecolor": "#2a3f5f",
             "gridcolor": "white",
             "linecolor": "white",
             "minorgridcolor": "white",
             "startlinecolor": "#2a3f5f"
            },
            "baxis": {
             "endlinecolor": "#2a3f5f",
             "gridcolor": "white",
             "linecolor": "white",
             "minorgridcolor": "white",
             "startlinecolor": "#2a3f5f"
            },
            "type": "carpet"
           }
          ],
          "choropleth": [
           {
            "colorbar": {
             "outlinewidth": 0,
             "ticks": ""
            },
            "type": "choropleth"
           }
          ],
          "contour": [
           {
            "colorbar": {
             "outlinewidth": 0,
             "ticks": ""
            },
            "colorscale": [
             [
              0,
              "#0d0887"
             ],
             [
              0.1111111111111111,
              "#46039f"
             ],
             [
              0.2222222222222222,
              "#7201a8"
             ],
             [
              0.3333333333333333,
              "#9c179e"
             ],
             [
              0.4444444444444444,
              "#bd3786"
             ],
             [
              0.5555555555555556,
              "#d8576b"
             ],
             [
              0.6666666666666666,
              "#ed7953"
             ],
             [
              0.7777777777777778,
              "#fb9f3a"
             ],
             [
              0.8888888888888888,
              "#fdca26"
             ],
             [
              1,
              "#f0f921"
             ]
            ],
            "type": "contour"
           }
          ],
          "contourcarpet": [
           {
            "colorbar": {
             "outlinewidth": 0,
             "ticks": ""
            },
            "type": "contourcarpet"
           }
          ],
          "heatmap": [
           {
            "colorbar": {
             "outlinewidth": 0,
             "ticks": ""
            },
            "colorscale": [
             [
              0,
              "#0d0887"
             ],
             [
              0.1111111111111111,
              "#46039f"
             ],
             [
              0.2222222222222222,
              "#7201a8"
             ],
             [
              0.3333333333333333,
              "#9c179e"
             ],
             [
              0.4444444444444444,
              "#bd3786"
             ],
             [
              0.5555555555555556,
              "#d8576b"
             ],
             [
              0.6666666666666666,
              "#ed7953"
             ],
             [
              0.7777777777777778,
              "#fb9f3a"
             ],
             [
              0.8888888888888888,
              "#fdca26"
             ],
             [
              1,
              "#f0f921"
             ]
            ],
            "type": "heatmap"
           }
          ],
          "heatmapgl": [
           {
            "colorbar": {
             "outlinewidth": 0,
             "ticks": ""
            },
            "colorscale": [
             [
              0,
              "#0d0887"
             ],
             [
              0.1111111111111111,
              "#46039f"
             ],
             [
              0.2222222222222222,
              "#7201a8"
             ],
             [
              0.3333333333333333,
              "#9c179e"
             ],
             [
              0.4444444444444444,
              "#bd3786"
             ],
             [
              0.5555555555555556,
              "#d8576b"
             ],
             [
              0.6666666666666666,
              "#ed7953"
             ],
             [
              0.7777777777777778,
              "#fb9f3a"
             ],
             [
              0.8888888888888888,
              "#fdca26"
             ],
             [
              1,
              "#f0f921"
             ]
            ],
            "type": "heatmapgl"
           }
          ],
          "histogram": [
           {
            "marker": {
             "pattern": {
              "fillmode": "overlay",
              "size": 10,
              "solidity": 0.2
             }
            },
            "type": "histogram"
           }
          ],
          "histogram2d": [
           {
            "colorbar": {
             "outlinewidth": 0,
             "ticks": ""
            },
            "colorscale": [
             [
              0,
              "#0d0887"
             ],
             [
              0.1111111111111111,
              "#46039f"
             ],
             [
              0.2222222222222222,
              "#7201a8"
             ],
             [
              0.3333333333333333,
              "#9c179e"
             ],
             [
              0.4444444444444444,
              "#bd3786"
             ],
             [
              0.5555555555555556,
              "#d8576b"
             ],
             [
              0.6666666666666666,
              "#ed7953"
             ],
             [
              0.7777777777777778,
              "#fb9f3a"
             ],
             [
              0.8888888888888888,
              "#fdca26"
             ],
             [
              1,
              "#f0f921"
             ]
            ],
            "type": "histogram2d"
           }
          ],
          "histogram2dcontour": [
           {
            "colorbar": {
             "outlinewidth": 0,
             "ticks": ""
            },
            "colorscale": [
             [
              0,
              "#0d0887"
             ],
             [
              0.1111111111111111,
              "#46039f"
             ],
             [
              0.2222222222222222,
              "#7201a8"
             ],
             [
              0.3333333333333333,
              "#9c179e"
             ],
             [
              0.4444444444444444,
              "#bd3786"
             ],
             [
              0.5555555555555556,
              "#d8576b"
             ],
             [
              0.6666666666666666,
              "#ed7953"
             ],
             [
              0.7777777777777778,
              "#fb9f3a"
             ],
             [
              0.8888888888888888,
              "#fdca26"
             ],
             [
              1,
              "#f0f921"
             ]
            ],
            "type": "histogram2dcontour"
           }
          ],
          "mesh3d": [
           {
            "colorbar": {
             "outlinewidth": 0,
             "ticks": ""
            },
            "type": "mesh3d"
           }
          ],
          "parcoords": [
           {
            "line": {
             "colorbar": {
              "outlinewidth": 0,
              "ticks": ""
             }
            },
            "type": "parcoords"
           }
          ],
          "pie": [
           {
            "automargin": true,
            "type": "pie"
           }
          ],
          "scatter": [
           {
            "marker": {
             "colorbar": {
              "outlinewidth": 0,
              "ticks": ""
             }
            },
            "type": "scatter"
           }
          ],
          "scatter3d": [
           {
            "line": {
             "colorbar": {
              "outlinewidth": 0,
              "ticks": ""
             }
            },
            "marker": {
             "colorbar": {
              "outlinewidth": 0,
              "ticks": ""
             }
            },
            "type": "scatter3d"
           }
          ],
          "scattercarpet": [
           {
            "marker": {
             "colorbar": {
              "outlinewidth": 0,
              "ticks": ""
             }
            },
            "type": "scattercarpet"
           }
          ],
          "scattergeo": [
           {
            "marker": {
             "colorbar": {
              "outlinewidth": 0,
              "ticks": ""
             }
            },
            "type": "scattergeo"
           }
          ],
          "scattergl": [
           {
            "marker": {
             "colorbar": {
              "outlinewidth": 0,
              "ticks": ""
             }
            },
            "type": "scattergl"
           }
          ],
          "scattermapbox": [
           {
            "marker": {
             "colorbar": {
              "outlinewidth": 0,
              "ticks": ""
             }
            },
            "type": "scattermapbox"
           }
          ],
          "scatterpolar": [
           {
            "marker": {
             "colorbar": {
              "outlinewidth": 0,
              "ticks": ""
             }
            },
            "type": "scatterpolar"
           }
          ],
          "scatterpolargl": [
           {
            "marker": {
             "colorbar": {
              "outlinewidth": 0,
              "ticks": ""
             }
            },
            "type": "scatterpolargl"
           }
          ],
          "scatterternary": [
           {
            "marker": {
             "colorbar": {
              "outlinewidth": 0,
              "ticks": ""
             }
            },
            "type": "scatterternary"
           }
          ],
          "surface": [
           {
            "colorbar": {
             "outlinewidth": 0,
             "ticks": ""
            },
            "colorscale": [
             [
              0,
              "#0d0887"
             ],
             [
              0.1111111111111111,
              "#46039f"
             ],
             [
              0.2222222222222222,
              "#7201a8"
             ],
             [
              0.3333333333333333,
              "#9c179e"
             ],
             [
              0.4444444444444444,
              "#bd3786"
             ],
             [
              0.5555555555555556,
              "#d8576b"
             ],
             [
              0.6666666666666666,
              "#ed7953"
             ],
             [
              0.7777777777777778,
              "#fb9f3a"
             ],
             [
              0.8888888888888888,
              "#fdca26"
             ],
             [
              1,
              "#f0f921"
             ]
            ],
            "type": "surface"
           }
          ],
          "table": [
           {
            "cells": {
             "fill": {
              "color": "#EBF0F8"
             },
             "line": {
              "color": "white"
             }
            },
            "header": {
             "fill": {
              "color": "#C8D4E3"
             },
             "line": {
              "color": "white"
             }
            },
            "type": "table"
           }
          ]
         },
         "layout": {
          "annotationdefaults": {
           "arrowcolor": "#2a3f5f",
           "arrowhead": 0,
           "arrowwidth": 1
          },
          "autotypenumbers": "strict",
          "coloraxis": {
           "colorbar": {
            "outlinewidth": 0,
            "ticks": ""
           }
          },
          "colorscale": {
           "diverging": [
            [
             0,
             "#8e0152"
            ],
            [
             0.1,
             "#c51b7d"
            ],
            [
             0.2,
             "#de77ae"
            ],
            [
             0.3,
             "#f1b6da"
            ],
            [
             0.4,
             "#fde0ef"
            ],
            [
             0.5,
             "#f7f7f7"
            ],
            [
             0.6,
             "#e6f5d0"
            ],
            [
             0.7,
             "#b8e186"
            ],
            [
             0.8,
             "#7fbc41"
            ],
            [
             0.9,
             "#4d9221"
            ],
            [
             1,
             "#276419"
            ]
           ],
           "sequential": [
            [
             0,
             "#0d0887"
            ],
            [
             0.1111111111111111,
             "#46039f"
            ],
            [
             0.2222222222222222,
             "#7201a8"
            ],
            [
             0.3333333333333333,
             "#9c179e"
            ],
            [
             0.4444444444444444,
             "#bd3786"
            ],
            [
             0.5555555555555556,
             "#d8576b"
            ],
            [
             0.6666666666666666,
             "#ed7953"
            ],
            [
             0.7777777777777778,
             "#fb9f3a"
            ],
            [
             0.8888888888888888,
             "#fdca26"
            ],
            [
             1,
             "#f0f921"
            ]
           ],
           "sequentialminus": [
            [
             0,
             "#0d0887"
            ],
            [
             0.1111111111111111,
             "#46039f"
            ],
            [
             0.2222222222222222,
             "#7201a8"
            ],
            [
             0.3333333333333333,
             "#9c179e"
            ],
            [
             0.4444444444444444,
             "#bd3786"
            ],
            [
             0.5555555555555556,
             "#d8576b"
            ],
            [
             0.6666666666666666,
             "#ed7953"
            ],
            [
             0.7777777777777778,
             "#fb9f3a"
            ],
            [
             0.8888888888888888,
             "#fdca26"
            ],
            [
             1,
             "#f0f921"
            ]
           ]
          },
          "colorway": [
           "#636efa",
           "#EF553B",
           "#00cc96",
           "#ab63fa",
           "#FFA15A",
           "#19d3f3",
           "#FF6692",
           "#B6E880",
           "#FF97FF",
           "#FECB52"
          ],
          "font": {
           "color": "#2a3f5f"
          },
          "geo": {
           "bgcolor": "white",
           "lakecolor": "white",
           "landcolor": "#E5ECF6",
           "showlakes": true,
           "showland": true,
           "subunitcolor": "white"
          },
          "hoverlabel": {
           "align": "left"
          },
          "hovermode": "closest",
          "mapbox": {
           "style": "light"
          },
          "paper_bgcolor": "white",
          "plot_bgcolor": "#E5ECF6",
          "polar": {
           "angularaxis": {
            "gridcolor": "white",
            "linecolor": "white",
            "ticks": ""
           },
           "bgcolor": "#E5ECF6",
           "radialaxis": {
            "gridcolor": "white",
            "linecolor": "white",
            "ticks": ""
           }
          },
          "scene": {
           "xaxis": {
            "backgroundcolor": "#E5ECF6",
            "gridcolor": "white",
            "gridwidth": 2,
            "linecolor": "white",
            "showbackground": true,
            "ticks": "",
            "zerolinecolor": "white"
           },
           "yaxis": {
            "backgroundcolor": "#E5ECF6",
            "gridcolor": "white",
            "gridwidth": 2,
            "linecolor": "white",
            "showbackground": true,
            "ticks": "",
            "zerolinecolor": "white"
           },
           "zaxis": {
            "backgroundcolor": "#E5ECF6",
            "gridcolor": "white",
            "gridwidth": 2,
            "linecolor": "white",
            "showbackground": true,
            "ticks": "",
            "zerolinecolor": "white"
           }
          },
          "shapedefaults": {
           "line": {
            "color": "#2a3f5f"
           }
          },
          "ternary": {
           "aaxis": {
            "gridcolor": "white",
            "linecolor": "white",
            "ticks": ""
           },
           "baxis": {
            "gridcolor": "white",
            "linecolor": "white",
            "ticks": ""
           },
           "bgcolor": "#E5ECF6",
           "caxis": {
            "gridcolor": "white",
            "linecolor": "white",
            "ticks": ""
           }
          },
          "title": {
           "x": 0.05
          },
          "xaxis": {
           "automargin": true,
           "gridcolor": "white",
           "linecolor": "white",
           "ticks": "",
           "title": {
            "standoff": 15
           },
           "zerolinecolor": "white",
           "zerolinewidth": 2
          },
          "yaxis": {
           "automargin": true,
           "gridcolor": "white",
           "linecolor": "white",
           "ticks": "",
           "title": {
            "standoff": 15
           },
           "zerolinecolor": "white",
           "zerolinewidth": 2
          }
         }
        },
        "title": {
         "text": "Intensities mean normalized with respect to the pristine glass"
        },
        "xaxis": {
         "anchor": "y",
         "domain": [
          0,
          0.94
         ],
         "range": [
          0,
          100
         ],
         "title": {
          "text": "Depth (nm)"
         }
        },
        "yaxis": {
         "anchor": "x",
         "domain": [
          0,
          1
         ],
         "range": [
          0,
          1.7
         ],
         "title": {
          "text": "$1^{o}$ Intensity"
         }
        },
        "yaxis2": {
         "anchor": "x",
         "overlaying": "y",
         "range": [
          0,
          22
         ],
         "side": "right",
         "title": {
          "text": "$2^{o}$ Intensity"
         }
        }
       }
      },
      "text/html": [
       "<div>                            <div id=\"c3fd4ba3-e6a5-420c-b4bb-b2c7cb4a3e5a\" class=\"plotly-graph-div\" style=\"height:525px; width:100%;\"></div>            <script type=\"text/javascript\">                require([\"plotly\"], function(Plotly) {                    window.PLOTLYENV=window.PLOTLYENV || {};                                    if (document.getElementById(\"c3fd4ba3-e6a5-420c-b4bb-b2c7cb4a3e5a\")) {                    Plotly.newPlot(                        \"c3fd4ba3-e6a5-420c-b4bb-b2c7cb4a3e5a\",                        [{\"name\":\"Zr+\",\"visible\":true,\"x\":[0.0,1.73145,3.4629,5.19435,6.9258,8.65724,10.3887,12.1201,13.8516,15.583,17.3145,19.0459,20.7774,22.5088,24.2403,25.9717,27.7032,29.4346,31.1661,32.8975,34.629,36.3604,38.0919,39.8233,41.5548,43.2862,45.0177,46.7491,48.4806,50.212,51.9435,53.6749,55.4064,57.1378,58.8693,60.6007,62.3322,64.0636,65.7951,67.5265,69.258,70.9894,72.7208,74.4523,76.1837,77.9152,79.6466,81.3781,83.1095,84.841,86.5724,88.3039,90.0353,91.7668,93.4982,95.2297,96.9611,98.6926,100.424,102.155,103.887,105.618,107.35,109.081,110.813,112.544,114.276,116.007,117.739,119.47,121.201,122.933,124.664,126.396,128.127,129.859,131.59,133.322,135.053,136.784,138.516,140.247,141.979,143.71,145.442,147.173,148.905,150.636,152.367,154.099,155.83,157.562,159.293,161.025,162.756,164.488,166.219,167.951,169.682,171.413,173.145,174.876,176.608,178.339,180.071,181.802,183.534,185.265,186.996,188.728,190.459,192.191,193.922,195.654,197.385,199.117,200.848,202.58,204.311,206.042,207.774,209.505,211.237,212.968,214.7,216.431,218.163,219.894,221.625,223.357,225.088,226.82,228.551,230.283,232.014,233.746,235.477,237.208,238.94,240.671,242.403,244.134,245.866,247.597,249.329,251.06,252.792,254.523,256.254,257.986,259.717,261.449,263.18,264.912,266.643,268.375,270.106,271.837,273.569,275.3,277.032,278.763,280.495,282.226,283.958,285.689,287.42,289.152,290.883,292.615,294.346,296.078,297.809,299.541,301.272,303.004,304.735,306.466,308.198,309.929,311.661,313.392,315.124,316.855,318.587,320.318,322.049,323.781,325.512,327.244,328.975,330.707,332.438,334.17,335.901,337.633,339.364,341.095,342.827,344.558,346.29,348.021,349.753,351.484,353.216,354.947,356.678,358.41,360.141,361.873,363.604,365.336,367.067,368.799,370.53,372.261,373.993,375.724,377.456,379.187,380.919,382.65,384.382,386.113,387.845,389.576,391.307,393.039,394.77,396.502,398.233,399.965,401.696,403.428,405.159,406.89,408.622,410.353,412.085,413.816,415.548,417.279,419.011,420.742,422.473,424.205,425.936,427.668,429.399,431.131,432.862,434.594,436.325,438.057,439.788,441.519,443.251,444.982,446.714,448.445,450.177,451.908,453.64,455.371,457.102,458.834,460.565,462.297,464.028,465.76,467.491,469.223,470.954,472.686,474.417,476.148,477.88,479.611,481.343,483.074,484.806,486.537],\"y\":[0.02452099619641048,0.8599214161476437,0.9172291956213667,0.9696220711951136,1.144749926959067,1.2266715451638712,1.3517509345143666,1.3539380667498562,1.421822719416328,1.448505732689299,1.5134266983040852,1.5708966696065072,1.5975010444170787,1.6126340335251055,1.6360781251279923,1.591657223680007,1.6624809888786647,1.595815232379387,1.665941081224248,1.5790996442155678,1.6176865547342811,1.5962870631537847,1.6714261139766213,1.6159810830809895,1.6742964178542075,1.620807518710766,1.618158385508679,1.6590700455720813,1.6086873656934246,1.623156842774955,1.6502674526872239,1.590202412125614,1.5233203998547373,1.506668705441618,1.4947598932919752,1.4121747630606745,1.3967321350069493,1.3702702924094772,1.3887060969382878,1.3169681596142346,1.2967335002580325,1.3444523022229018,1.4044092148987122,1.379800291071531,1.3875805839451933,1.3395079088995256,1.3534564061676584,1.3528666176996613,1.3280856722359808,1.298262035370925,1.3085685888491752,1.2841218568506934,1.3012945310772104,1.3049610493865926,1.2932635781046493,1.2633711325849937,1.3131984283229527,1.2926787045405521,1.3513085931633686,1.2738103884685432,1.3705995909707755,1.2803816149828116,1.3059980941094878,1.2305788937643523,1.389974142144482,1.2905308915362625,1.3808668252178258,1.3482711825531835,1.2837139198269953,1.3647803447532036,1.2905308915362625,1.3799231636690306,1.3177791187577308,1.3634828101236098,1.3601849096067258,1.3697345678843798,1.3178135230850305,1.3306266775522686,1.2967679045853324,1.3910357613868767,1.3410216993007185,1.3144369841057468,1.3204528264793178,1.3767677953652457,1.3367555627155392,1.3728555318608646,1.370068781349578,1.338387310810331,1.3762615602635482,1.4109902712207802,1.3927068287128688,1.3653455587017007,1.3611089115399213,1.3895956945441836,1.4287232444918945,1.4308563127844842,1.358042011506336,1.393463723913465,1.43999311913454,1.4425144648352277,1.4521378466713815,1.3902051426277806,1.4004232278358313,1.428610201702195,1.3536235129002576,1.376281219879148,1.4172027097503501,1.3787976506759358,1.4020205716033236,1.3943533215193606,1.4299912896980884,1.3830048084143154,1.3381268209036323,1.297701736326328,1.363271469255911,1.3211261683136144,1.3114241480150615,1.3975578388621452,1.321455466874913,1.3482711825531835,1.324807431334697,1.4063161976119027,1.3068926066192834,1.3320864040105618,1.2933422165670487,1.3095269951096706,1.336165774247542,1.3172040750014335,1.3060669027640874,1.3518148282650662,1.3294126962889745,1.3180494384722294,1.290825785770261,1.3030196623461021,1.3687958212394842,1.3431695123050083,1.316904265863535,1.3422700848913123,1.3283658217582797,1.334686388173649,1.325190793838895,1.2786712284256196,1.3014223185786098,1.3389770992783283,1.2847853688771902,1.3223843837120084,1.2898575497019658,1.3107852105080646,1.310052889826968,1.2894348679665677,1.3170271384610344,1.312962512935754,1.2475009078919705,1.29516564591394,1.3116993826334602,1.2359803731504262,1.2487689530981643,1.2440457304502872,1.3211261683136144,1.25384604882684,1.3205216351339173,1.3231314491048047,1.307398841720981,1.2619015763189008,1.2921380651115548,1.2527205358337452,1.2342355822659345,1.2797230178602148,1.2488131872332642,1.3324157025718601,1.3081901412488772,1.3242274726744996,1.2712546384405556,1.3141420898717484,1.2791184846805177,1.2777619712041242,1.2654796263580836,1.2720950870074514,1.2330658351377402,1.2307951495359513,1.2743067937624408,1.1939382851900293,1.2482774627081668,1.2297286153896563,1.192788197677435,1.1981356131206091,1.2374843337438188,1.211425513266145,1.229998935104155,1.1579611886422032,1.258751122919016,1.178107379728206,1.209931382480552,1.1814249398606897,1.2123446002954403,1.1990104660148049,1.1751436926765202,1.235823096225627,1.1446024798420678,1.2205426600006009,1.2133177512676356,1.1754385869105186,1.1824767292952847,1.157366485270306,1.2056308415680728,1.162360027632682,1.1879273577203584,1.1944199457722269,1.1614261958916865,1.189485382256651,1.1427446461678767,1.1927243039267352,1.1456444394688627,1.1479396995901516,1.1306392378622352,1.1534984559010248,1.173561093620728,1.1534738813815248,1.1647142666007706,1.1451726086944651,1.1753599484481192,1.1817788129414881,1.1407197057610865,1.12964642727444,1.1234978824955697,1.1072000611632486,1.115363716541109,1.0720290088550186,1.077297785835793,1.116666166074603,1.0981124038521926,1.078723107966786,1.1345564162705164,1.1225149017155747,1.0964462514301005,1.1198755983212874,1.0989381077073885,1.113338776134319,1.1074851255894471,1.0917082840705234,1.066362124658346,1.0995229812714857,1.108767915507341,1.0981369783716923,1.0319037334156125,1.0711639857686228,1.0723976266475168,1.0956008879593047,1.095310908629206,1.0607001553655733,1.0417728604467649,1.0912118787766258,1.0275196391368338,1.008213896617727,1.0640472049214573,1.0473512763732378,1.0799075998066803,1.0341989935369014,1.052266180273214,1.0531950971103095,1.0367989776999886,1.0281782362594305,0.9952139758022899,1.0643126097320559,0.9996914532551681,1.0154977841974917,0.9868144050372305,1.0720486684706185,1.0359093800940933,1.0181714919190787,1.0002271777802656,1.0081794922904272,0.9914933935500078,0.9998339854682674,0.9596300715664619,0.9692485384987153,1.0066607869853346,0.9745566347106897,0.975706722223284,0.9694058154235147,1.0261631256604402,0.9907610728689115],\"type\":\"scatter\",\"xaxis\":\"x\",\"yaxis\":\"y\"},{\"name\":\"^10B+/B+\",\"visible\":true,\"x\":[0.0,1.73145,3.4629,5.19435,6.9258,8.65724,10.3887,12.1201,13.8516,15.583,17.3145,19.0459,20.7774,22.5088,24.2403,25.9717,27.7032,29.4346,31.1661,32.8975,34.629,36.3604,38.0919,39.8233,41.5548,43.2862,45.0177,46.7491,48.4806,50.212,51.9435,53.6749,55.4064,57.1378,58.8693,60.6007,62.3322,64.0636,65.7951,67.5265,69.258,70.9894,72.7208,74.4523,76.1837,77.9152,79.6466,81.3781,83.1095,84.841,86.5724,88.3039,90.0353,91.7668,93.4982,95.2297,96.9611,98.6926,100.424,102.155,103.887,105.618,107.35,109.081,110.813,112.544,114.276,116.007,117.739,119.47,121.201,122.933,124.664,126.396,128.127,129.859,131.59,133.322,135.053,136.784,138.516,140.247,141.979,143.71,145.442,147.173,148.905,150.636,152.367,154.099,155.83,157.562,159.293,161.025,162.756,164.488,166.219,167.951,169.682,171.413,173.145,174.876,176.608,178.339,180.071,181.802,183.534,185.265,186.996,188.728,190.459,192.191,193.922,195.654,197.385,199.117,200.848,202.58,204.311,206.042,207.774,209.505,211.237,212.968,214.7,216.431,218.163,219.894,221.625,223.357,225.088,226.82,228.551,230.283,232.014,233.746,235.477,237.208,238.94,240.671,242.403,244.134,245.866,247.597,249.329,251.06,252.792,254.523,256.254,257.986,259.717,261.449,263.18,264.912,266.643,268.375,270.106,271.837,273.569,275.3,277.032,278.763,280.495,282.226,283.958,285.689,287.42,289.152,290.883,292.615,294.346,296.078,297.809,299.541,301.272,303.004,304.735,306.466,308.198,309.929,311.661,313.392,315.124,316.855,318.587,320.318,322.049,323.781,325.512,327.244,328.975,330.707,332.438,334.17,335.901,337.633,339.364,341.095,342.827,344.558,346.29,348.021,349.753,351.484,353.216,354.947,356.678,358.41,360.141,361.873,363.604,365.336,367.067,368.799,370.53,372.261,373.993,375.724,377.456,379.187,380.919,382.65,384.382,386.113,387.845,389.576,391.307,393.039,394.77,396.502,398.233,399.965,401.696,403.428,405.159,406.89,408.622,410.353,412.085,413.816,415.548,417.279,419.011,420.742,422.473,424.205,425.936,427.668,429.399,431.131,432.862,434.594,436.325,438.057,439.788,441.519,443.251,444.982,446.714,448.445,450.177,451.908,453.64,455.371,457.102,458.834,460.565,462.297,464.028,465.76,467.491,469.223,470.954,472.686,474.417,476.148,477.88,479.611,481.343,483.074,484.806,486.537],\"y\":[2.0630671561998883,13.665047662483895,18.42886120751402,13.01987243283224,14.139246043267818,13.609450567408327,12.473236810037848,13.707059948532343,12.80649078092155,11.624553079539757,11.676677991978787,12.732106453774069,11.237622274155335,11.91155081607249,11.306225134800448,11.490062683094854,11.18796743986786,9.29556760304756,11.12334933894058,11.109542413996977,10.920699606286247,11.082605243123087,9.39264494726601,9.41203271595047,10.330714535047596,10.544887603983176,9.67048755064933,8.383380822995377,8.35738891177067,7.298448987588261,6.643660451697396,5.453948467214839,4.148187301975954,3.045855421104866,2.076556476007437,1.261373695245681,0.8031999835299651,0.49670663256896513,0.3507192637143864,0.271528016199212,0.23106192134894746,0.2195464369821018,0.20774913114803825,0.20423095964785415,0.20916760333919024,0.20464912015910094,0.203709901922164,0.20382640526074725,0.2034034523103134,0.20398573391883426,0.2080881733744476,0.19717358696730958,0.1988266771651053,0.21041164821001113,0.1989872739752363,0.20582116991265628,0.20325689390836155,0.2034613568145294,0.196352600137157,0.20213117140410133,0.20565523423561066,0.20848359723726848,0.19968009376658105,0.19411070547891027,0.2011423209876516,0.20159473446773807,0.2010854057325573,0.19987178606413175,0.19518191419779274,0.19903136228971413,0.2009908027587376,0.2017226103548192,0.20472916703209176,0.19727410769053924,0.2007574739230873,0.20329272884305394,0.1956217183504123,0.20378196075712882,0.19841211633957279,0.19746419643345056,0.19777849390364424,0.1967904600215351,0.2000761216468214,0.2081405687383142,0.19352352834182543,0.2019374193819235,0.19988905932140305,0.20168359545111664,0.2012881120940775,0.20319100841685522,0.20801277865954773,0.20479531757267538,0.19918118339646668,0.20159419058622094,0.19586425754699918,0.19879577024737052,0.19780365060189917,0.19813363843946583,0.20153575328291395,0.20188105877862697,0.19758691913758708,0.20184158751162046,0.20165896807879372,0.20071075613415804,0.20616249317691132,0.20104902989663317,0.20291373054673748,0.19945317519604863,0.19925732439443483,0.20198340404859133,0.19372141372416551,0.20450620187222202,0.20363552353772682,0.19560270063502722,0.19989779167752725,0.19711012670119749,0.20059959069145508,0.19966959716082264,0.19749452294708406,0.20135403362158866,0.19917913413710608,0.20080335584930312,0.20437244603048285,0.19956007615981813,0.19568213259642564,0.20036976275506926,0.2000927426917712,0.20261788205585696,0.19822817413914715,0.20107469765540867,0.20033904189807406,0.19819968435324814,0.20083317765827777,0.204468060550075,0.19854122244328468,0.19833881652829,0.19708858718562164,0.206314810435913,0.19430293124979817,0.19908181925945573,0.20494883063226746,0.1964454039384892,0.2047779150057243,0.20301197119278858,0.19987932834311525,0.20057101909722488,0.2001764419797973,0.19636311875984258,0.19814744957317323,0.19672832748500899,0.2053376681059943,0.19853069589226532,0.1981334783285036,0.199965787971781,0.20121754152970142,0.19926557510395976,0.2010886306362746,0.20122311564501552,0.19956365275403706,0.19934416721132406,0.20367915857406327,0.20304877820416095,0.20630350326434863,0.1977374858523519,0.19639350743925574,0.20200713756000632,0.2047393114038628,0.20026072833142786,0.19558446097109522,0.2018563865941331,0.19675558279018396,0.20229236494007719,0.19767947765130445,0.19541867615725947,0.19747615877282662,0.19764051822930948,0.20560653069907725,0.1984730947704682,0.20151925935105394,0.19538678513264027,0.19951109645071927,0.19991461700603907,0.1981653288252812,0.20023805313139953,0.20316705488828343,0.20588160683291135,0.19392723313796775,0.1969483297040572,0.19865900562002164,0.20010409456784772,0.1986469102285298,0.1958919817140406,0.20431749193318827,0.2011719591199668,0.20057001391070656,0.20161909584918297,0.20590077718963568,0.19577053252526946,0.20352657513803335,0.1988546970912791,0.2048734778467184,0.2018095375402693,0.19849277238989363,0.1985065587540586,0.1939766358042564,0.19952512986607038,0.19626694209991216,0.2062471054756503,0.20365664979662612,0.19646863498733844,0.19791355201323668,0.2033346859417096,0.20344981130754142,0.1969040643607573,0.20501715695853093,0.20157975948276602,0.19972815512870776,0.20150757384903048,0.20147471147681,0.19822445773668415,0.2035735076028345,0.1995156626515071,0.19967277218527857,0.1958725387568445,0.20067858126414895,0.2018269684105374,0.2010096505841846,0.2014648189938576,0.1990928876540988,0.2032741293162912,0.19741030448512562,0.19884661332321774,0.1999225724826807,0.1966018098821181,0.19636887096027617,0.20321481113248416,0.2000748592314123,0.19878941863774954,0.19812578513849785,0.19404267513022713,0.20358636593680154,0.19691553512370744,0.2012424752859664,0.1982767334401867,0.20251051669860415,0.20304821542637785,0.197142204525871,0.20138048252912633,0.20510024839368562,0.2034971008478272,0.201770073861609,0.19807127570314878,0.19671725165720658,0.20534203244055585,0.19515055368258274,0.20536931163517547,0.20303915665584243,0.2033923270235037,0.19893016337923367,0.20116169904517672,0.19902993570155217,0.2028156381480264,0.19570555494984734,0.19531080990111138,0.20279067744816187,0.19730159982838258,0.20130038988214435,0.20051027548569186,0.2039612880527051,0.20547178828785032,0.1965385933828055,0.19486202422189805,0.1969746946393076,0.19902847602768903,0.1977678305628955,0.20364272113037624,0.2004038577137138,0.1972640567949814,0.19932615884463156,0.20146517495539126,0.2011048615687488,0.20050541884416928],\"type\":\"scatter\",\"xaxis\":\"x\",\"yaxis\":\"y2\"}],                        {\"template\":{\"data\":{\"bar\":[{\"error_x\":{\"color\":\"#2a3f5f\"},\"error_y\":{\"color\":\"#2a3f5f\"},\"marker\":{\"line\":{\"color\":\"#E5ECF6\",\"width\":0.5},\"pattern\":{\"fillmode\":\"overlay\",\"size\":10,\"solidity\":0.2}},\"type\":\"bar\"}],\"barpolar\":[{\"marker\":{\"line\":{\"color\":\"#E5ECF6\",\"width\":0.5},\"pattern\":{\"fillmode\":\"overlay\",\"size\":10,\"solidity\":0.2}},\"type\":\"barpolar\"}],\"carpet\":[{\"aaxis\":{\"endlinecolor\":\"#2a3f5f\",\"gridcolor\":\"white\",\"linecolor\":\"white\",\"minorgridcolor\":\"white\",\"startlinecolor\":\"#2a3f5f\"},\"baxis\":{\"endlinecolor\":\"#2a3f5f\",\"gridcolor\":\"white\",\"linecolor\":\"white\",\"minorgridcolor\":\"white\",\"startlinecolor\":\"#2a3f5f\"},\"type\":\"carpet\"}],\"choropleth\":[{\"colorbar\":{\"outlinewidth\":0,\"ticks\":\"\"},\"type\":\"choropleth\"}],\"contour\":[{\"colorbar\":{\"outlinewidth\":0,\"ticks\":\"\"},\"colorscale\":[[0.0,\"#0d0887\"],[0.1111111111111111,\"#46039f\"],[0.2222222222222222,\"#7201a8\"],[0.3333333333333333,\"#9c179e\"],[0.4444444444444444,\"#bd3786\"],[0.5555555555555556,\"#d8576b\"],[0.6666666666666666,\"#ed7953\"],[0.7777777777777778,\"#fb9f3a\"],[0.8888888888888888,\"#fdca26\"],[1.0,\"#f0f921\"]],\"type\":\"contour\"}],\"contourcarpet\":[{\"colorbar\":{\"outlinewidth\":0,\"ticks\":\"\"},\"type\":\"contourcarpet\"}],\"heatmap\":[{\"colorbar\":{\"outlinewidth\":0,\"ticks\":\"\"},\"colorscale\":[[0.0,\"#0d0887\"],[0.1111111111111111,\"#46039f\"],[0.2222222222222222,\"#7201a8\"],[0.3333333333333333,\"#9c179e\"],[0.4444444444444444,\"#bd3786\"],[0.5555555555555556,\"#d8576b\"],[0.6666666666666666,\"#ed7953\"],[0.7777777777777778,\"#fb9f3a\"],[0.8888888888888888,\"#fdca26\"],[1.0,\"#f0f921\"]],\"type\":\"heatmap\"}],\"heatmapgl\":[{\"colorbar\":{\"outlinewidth\":0,\"ticks\":\"\"},\"colorscale\":[[0.0,\"#0d0887\"],[0.1111111111111111,\"#46039f\"],[0.2222222222222222,\"#7201a8\"],[0.3333333333333333,\"#9c179e\"],[0.4444444444444444,\"#bd3786\"],[0.5555555555555556,\"#d8576b\"],[0.6666666666666666,\"#ed7953\"],[0.7777777777777778,\"#fb9f3a\"],[0.8888888888888888,\"#fdca26\"],[1.0,\"#f0f921\"]],\"type\":\"heatmapgl\"}],\"histogram\":[{\"marker\":{\"pattern\":{\"fillmode\":\"overlay\",\"size\":10,\"solidity\":0.2}},\"type\":\"histogram\"}],\"histogram2d\":[{\"colorbar\":{\"outlinewidth\":0,\"ticks\":\"\"},\"colorscale\":[[0.0,\"#0d0887\"],[0.1111111111111111,\"#46039f\"],[0.2222222222222222,\"#7201a8\"],[0.3333333333333333,\"#9c179e\"],[0.4444444444444444,\"#bd3786\"],[0.5555555555555556,\"#d8576b\"],[0.6666666666666666,\"#ed7953\"],[0.7777777777777778,\"#fb9f3a\"],[0.8888888888888888,\"#fdca26\"],[1.0,\"#f0f921\"]],\"type\":\"histogram2d\"}],\"histogram2dcontour\":[{\"colorbar\":{\"outlinewidth\":0,\"ticks\":\"\"},\"colorscale\":[[0.0,\"#0d0887\"],[0.1111111111111111,\"#46039f\"],[0.2222222222222222,\"#7201a8\"],[0.3333333333333333,\"#9c179e\"],[0.4444444444444444,\"#bd3786\"],[0.5555555555555556,\"#d8576b\"],[0.6666666666666666,\"#ed7953\"],[0.7777777777777778,\"#fb9f3a\"],[0.8888888888888888,\"#fdca26\"],[1.0,\"#f0f921\"]],\"type\":\"histogram2dcontour\"}],\"mesh3d\":[{\"colorbar\":{\"outlinewidth\":0,\"ticks\":\"\"},\"type\":\"mesh3d\"}],\"parcoords\":[{\"line\":{\"colorbar\":{\"outlinewidth\":0,\"ticks\":\"\"}},\"type\":\"parcoords\"}],\"pie\":[{\"automargin\":true,\"type\":\"pie\"}],\"scatter\":[{\"marker\":{\"colorbar\":{\"outlinewidth\":0,\"ticks\":\"\"}},\"type\":\"scatter\"}],\"scatter3d\":[{\"line\":{\"colorbar\":{\"outlinewidth\":0,\"ticks\":\"\"}},\"marker\":{\"colorbar\":{\"outlinewidth\":0,\"ticks\":\"\"}},\"type\":\"scatter3d\"}],\"scattercarpet\":[{\"marker\":{\"colorbar\":{\"outlinewidth\":0,\"ticks\":\"\"}},\"type\":\"scattercarpet\"}],\"scattergeo\":[{\"marker\":{\"colorbar\":{\"outlinewidth\":0,\"ticks\":\"\"}},\"type\":\"scattergeo\"}],\"scattergl\":[{\"marker\":{\"colorbar\":{\"outlinewidth\":0,\"ticks\":\"\"}},\"type\":\"scattergl\"}],\"scattermapbox\":[{\"marker\":{\"colorbar\":{\"outlinewidth\":0,\"ticks\":\"\"}},\"type\":\"scattermapbox\"}],\"scatterpolar\":[{\"marker\":{\"colorbar\":{\"outlinewidth\":0,\"ticks\":\"\"}},\"type\":\"scatterpolar\"}],\"scatterpolargl\":[{\"marker\":{\"colorbar\":{\"outlinewidth\":0,\"ticks\":\"\"}},\"type\":\"scatterpolargl\"}],\"scatterternary\":[{\"marker\":{\"colorbar\":{\"outlinewidth\":0,\"ticks\":\"\"}},\"type\":\"scatterternary\"}],\"surface\":[{\"colorbar\":{\"outlinewidth\":0,\"ticks\":\"\"},\"colorscale\":[[0.0,\"#0d0887\"],[0.1111111111111111,\"#46039f\"],[0.2222222222222222,\"#7201a8\"],[0.3333333333333333,\"#9c179e\"],[0.4444444444444444,\"#bd3786\"],[0.5555555555555556,\"#d8576b\"],[0.6666666666666666,\"#ed7953\"],[0.7777777777777778,\"#fb9f3a\"],[0.8888888888888888,\"#fdca26\"],[1.0,\"#f0f921\"]],\"type\":\"surface\"}],\"table\":[{\"cells\":{\"fill\":{\"color\":\"#EBF0F8\"},\"line\":{\"color\":\"white\"}},\"header\":{\"fill\":{\"color\":\"#C8D4E3\"},\"line\":{\"color\":\"white\"}},\"type\":\"table\"}]},\"layout\":{\"annotationdefaults\":{\"arrowcolor\":\"#2a3f5f\",\"arrowhead\":0,\"arrowwidth\":1},\"autotypenumbers\":\"strict\",\"coloraxis\":{\"colorbar\":{\"outlinewidth\":0,\"ticks\":\"\"}},\"colorscale\":{\"diverging\":[[0,\"#8e0152\"],[0.1,\"#c51b7d\"],[0.2,\"#de77ae\"],[0.3,\"#f1b6da\"],[0.4,\"#fde0ef\"],[0.5,\"#f7f7f7\"],[0.6,\"#e6f5d0\"],[0.7,\"#b8e186\"],[0.8,\"#7fbc41\"],[0.9,\"#4d9221\"],[1,\"#276419\"]],\"sequential\":[[0.0,\"#0d0887\"],[0.1111111111111111,\"#46039f\"],[0.2222222222222222,\"#7201a8\"],[0.3333333333333333,\"#9c179e\"],[0.4444444444444444,\"#bd3786\"],[0.5555555555555556,\"#d8576b\"],[0.6666666666666666,\"#ed7953\"],[0.7777777777777778,\"#fb9f3a\"],[0.8888888888888888,\"#fdca26\"],[1.0,\"#f0f921\"]],\"sequentialminus\":[[0.0,\"#0d0887\"],[0.1111111111111111,\"#46039f\"],[0.2222222222222222,\"#7201a8\"],[0.3333333333333333,\"#9c179e\"],[0.4444444444444444,\"#bd3786\"],[0.5555555555555556,\"#d8576b\"],[0.6666666666666666,\"#ed7953\"],[0.7777777777777778,\"#fb9f3a\"],[0.8888888888888888,\"#fdca26\"],[1.0,\"#f0f921\"]]},\"colorway\":[\"#636efa\",\"#EF553B\",\"#00cc96\",\"#ab63fa\",\"#FFA15A\",\"#19d3f3\",\"#FF6692\",\"#B6E880\",\"#FF97FF\",\"#FECB52\"],\"font\":{\"color\":\"#2a3f5f\"},\"geo\":{\"bgcolor\":\"white\",\"lakecolor\":\"white\",\"landcolor\":\"#E5ECF6\",\"showlakes\":true,\"showland\":true,\"subunitcolor\":\"white\"},\"hoverlabel\":{\"align\":\"left\"},\"hovermode\":\"closest\",\"mapbox\":{\"style\":\"light\"},\"paper_bgcolor\":\"white\",\"plot_bgcolor\":\"#E5ECF6\",\"polar\":{\"angularaxis\":{\"gridcolor\":\"white\",\"linecolor\":\"white\",\"ticks\":\"\"},\"bgcolor\":\"#E5ECF6\",\"radialaxis\":{\"gridcolor\":\"white\",\"linecolor\":\"white\",\"ticks\":\"\"}},\"scene\":{\"xaxis\":{\"backgroundcolor\":\"#E5ECF6\",\"gridcolor\":\"white\",\"gridwidth\":2,\"linecolor\":\"white\",\"showbackground\":true,\"ticks\":\"\",\"zerolinecolor\":\"white\"},\"yaxis\":{\"backgroundcolor\":\"#E5ECF6\",\"gridcolor\":\"white\",\"gridwidth\":2,\"linecolor\":\"white\",\"showbackground\":true,\"ticks\":\"\",\"zerolinecolor\":\"white\"},\"zaxis\":{\"backgroundcolor\":\"#E5ECF6\",\"gridcolor\":\"white\",\"gridwidth\":2,\"linecolor\":\"white\",\"showbackground\":true,\"ticks\":\"\",\"zerolinecolor\":\"white\"}},\"shapedefaults\":{\"line\":{\"color\":\"#2a3f5f\"}},\"ternary\":{\"aaxis\":{\"gridcolor\":\"white\",\"linecolor\":\"white\",\"ticks\":\"\"},\"baxis\":{\"gridcolor\":\"white\",\"linecolor\":\"white\",\"ticks\":\"\"},\"bgcolor\":\"#E5ECF6\",\"caxis\":{\"gridcolor\":\"white\",\"linecolor\":\"white\",\"ticks\":\"\"}},\"title\":{\"x\":0.05},\"xaxis\":{\"automargin\":true,\"gridcolor\":\"white\",\"linecolor\":\"white\",\"ticks\":\"\",\"title\":{\"standoff\":15},\"zerolinecolor\":\"white\",\"zerolinewidth\":2},\"yaxis\":{\"automargin\":true,\"gridcolor\":\"white\",\"linecolor\":\"white\",\"ticks\":\"\",\"title\":{\"standoff\":15},\"zerolinecolor\":\"white\",\"zerolinewidth\":2}}},\"xaxis\":{\"anchor\":\"y\",\"domain\":[0.0,0.94],\"title\":{\"text\":\"Depth (nm)\"},\"range\":[0.0,100]},\"yaxis\":{\"anchor\":\"x\",\"domain\":[0.0,1.0],\"title\":{\"text\":\"$1^{o}$ Intensity\"},\"range\":[0.0,1.7]},\"yaxis2\":{\"anchor\":\"x\",\"overlaying\":\"y\",\"side\":\"right\",\"title\":{\"text\":\"$2^{o}$ Intensity\"},\"range\":[0.0,22]},\"title\":{\"text\":\"Intensities mean normalized with respect to the pristine glass\"},\"legend\":{\"title\":{\"text\":\"Elements\"}}},                        {\"responsive\": true}                    ).then(function(){\n",
       "                            \n",
       "var gd = document.getElementById('c3fd4ba3-e6a5-420c-b4bb-b2c7cb4a3e5a');\n",
       "var x = new MutationObserver(function (mutations, observer) {{\n",
       "        var display = window.getComputedStyle(gd).display;\n",
       "        if (!display || display === 'none') {{\n",
       "            console.log([gd, 'removed!']);\n",
       "            Plotly.purge(gd);\n",
       "            observer.disconnect();\n",
       "        }}\n",
       "}});\n",
       "\n",
       "// Listen for the removal of the full notebook cells\n",
       "var notebookContainer = gd.closest('#notebook-container');\n",
       "if (notebookContainer) {{\n",
       "    x.observe(notebookContainer, {childList: true});\n",
       "}}\n",
       "\n",
       "// Listen for the clearing of the current output cell\n",
       "var outputEl = gd.closest('.output');\n",
       "if (outputEl) {{\n",
       "    x.observe(outputEl, {childList: true});\n",
       "}}\n",
       "\n",
       "                        })                };                });            </script>        </div>"
      ]
     },
     "metadata": {},
     "output_type": "display_data"
    },
    {
     "data": {
      "image/png": "[encoded data removed]",
      "text/plain": [
       "<Figure size 1800x900 with 2 Axes>"
      ]
     },
     "metadata": {
      "needs_background": "light"
     },
     "output_type": "display_data"
    }
   ],
   "source": [
    "def mean_normalize_data(data):\n",
    "    depth = data.get('depth')\n",
    "    mean_normalized_data = { your_key: data[your_key] for your_key in ['file_name', 'depth'] }\n",
    "    if list_of_elements_to_plot_in_primary_y_axis != []:\n",
    "        dict_mean_p2p = element_mean_intensity_pristine_glass(data.get('primary_axis_elements'), depth)\n",
    "        mean_normalized_data['primary_axis_elements'] = dict_mean_p2p.get('depth_wise_mean_normalized_data')\n",
    "    if list_of_elements_to_plot_in_secondary_y_axis != []:\n",
    "        dict_mean_p2p_2nd = element_mean_intensity_pristine_glass(data.get('secondary_axis_elements'), depth)\n",
    "        mean_normalized_data['secondary_axis_elements'] = dict_mean_p2p_2nd.get('depth_wise_mean_normalized_data')\n",
    "    return mean_normalized_data\n",
    "\n",
    "def element_normalize_data(data):\n",
    "    depth = data.get('depth')\n",
    "    element_normalized_data = { your_key: data[your_key] for your_key in ['file_name', 'depth'] }\n",
    "    dict_element_mean_p2p = element_mean_intensity_pristine_glass(data.get('element_to_normalize'), depth).get('depth_wise_mean_normalized_data')\n",
    "    if list_of_elements_to_plot_in_primary_y_axis != []:\n",
    "        element_normalized = {}\n",
    "        dict_primary_mean_p2p = element_mean_intensity_pristine_glass(data.get('primary_axis_elements'), depth)\n",
    "        for lines3_1, lines3_2 in dict_primary_mean_p2p.get('depth_wise_mean_normalized_data').items():\n",
    "            element_normalized[lines3_1] = np.array(lines3_2)/np.array(dict_element_mean_p2p.get(choose_element_to_normalize))\n",
    "        element_normalized_data['primary_axis_elements'] = element_normalized\n",
    "    if list_of_elements_to_plot_in_secondary_y_axis != []:\n",
    "        element_normalized = {}\n",
    "        dict_secondary_mean_p2p = element_mean_intensity_pristine_glass(data.get('secondary_axis_elements'), depth)\n",
    "        for lines3_3, lines3_4 in dict_secondary_mean_p2p.get('depth_wise_mean_normalized_data').items():\n",
    "            element_normalized[lines3_3] = np.array(lines3_4)/np.array(dict_element_mean_p2p.get(choose_element_to_normalize))\n",
    "        element_normalized_data['secondary_axis_elements'] = element_normalized\n",
    "    return element_normalized_data\n",
    "    \n",
    "def ratio_of_element_data(data):\n",
    "    depth = data.get('depth')\n",
    "    ratio_of_elements = data.get('ratio_of_elements')\n",
    "    numerator = ratio_of_elements.get(ratio_of_element_numerator)\n",
    "    denominator = ratio_of_elements.get(ratio_of_element_denominator)\n",
    "    ratio = np.array(numerator)/np.array(denominator)\n",
    "    if adjust_elemental_ratio_to_natural_abundance == 'yes':\n",
    "        mean_intensity_of_pg = element_mean_intensity_pristine_glass(data.get('ratio_of_elements'), depth).get('pristine_glass_mean_values')\n",
    "        mean_intensity_ratio_of_pg = mean_intensity_of_pg.get(ratio_of_element_numerator)/mean_intensity_of_pg.get(ratio_of_element_denominator)\n",
    "        x2 = mean_intensity_ratio_of_pg/natural_abundance_of_ratio\n",
    "        corrected_ratio_of_elements = ratio/x2\n",
    "        return {'ratio_of_elements': corrected_ratio_of_elements}\n",
    "    else:\n",
    "        return {'ratio_of_elements': ratio}\n",
    "\n",
    "def verify_mean_normalization(tof_sims_data):\n",
    "    if pilot_mode != 'yes':\n",
    "        if 'element_normalized' in type_of_plot or 'mean_normalized' in type_of_plot:\n",
    "            depth = tof_sims_data.get('depth')\n",
    "            if type_of_mean_normalization == 'partition':\n",
    "                if mean_normalize_based_on_which_partition == 'last':\n",
    "                    target_glass_start = depth[-1] - mean_normalize_based_on_number_of_layers\n",
    "                    value_close_to_the_start_1 = min(depth, key=lambda x:abs(x-target_glass_start))\n",
    "                    print('Mean normalization is performed against the pristine glass region from %s to the %s.' %(value_close_to_the_start_1, depth[-1]))\n",
    "                if mean_normalize_based_on_which_partition == 'first':\n",
    "                    target_glass_end = depth[0] + mean_normalize_based_on_number_of_layers\n",
    "                    value_close_to_the_end_1 = min(depth, key=lambda x:abs(x-target_glass_end))\n",
    "                    print('Mean normalization is performed against the pristine glass region from %s to the %s.' %(depth[0], value_close_to_the_end_1))\n",
    "            if type_of_mean_normalization == 'start_end':\n",
    "                value_close_to_the_start = min(depth, key=lambda x:abs(x-pristine_glass_start_region))\n",
    "                start_2 = depth.index(value_close_to_the_start)\n",
    "                print('The requested start value for defining the pristine glass at \\'pristine_glass_start_region\\' is %s; The closest value python has found is %s after searching through the ToF-SIMS data' %(pristine_glass_start_region, value_close_to_the_start))\n",
    "                value_close_to_the_end = min(depth, key=lambda x:abs(x-pristine_glass_end_region))\n",
    "                end_2 = depth.index(value_close_to_the_end)\n",
    "                print('The requested end value for defining the pristine glass at \\'pristine_glass_end_region\\' is %s; The closest value python has found is %s after searching through the ToF-SIMS data' %(pristine_glass_end_region, value_close_to_the_end))            \n",
    "                print('Therefore, mean normalization is performed against the pristine glass region from %s to the %s.' %(value_close_to_the_start, value_close_to_the_end))\n",
    "\n",
    "def tof_sims_data_process(data):\n",
    "    x17_1 = verify_mean_normalization(data)\n",
    "    if 'raw_data' in type_of_plot:\n",
    "        tof_sims_data_plot(data)\n",
    "    if ('mean_normalized' in type_of_plot) and ('ratio_of_element' in type_of_plot):\n",
    "        mean_normalized_dict = mean_normalize_data(data)\n",
    "        ratio_of_element_dict = ratio_of_element_data(data)\n",
    "        if axis_of_ratio_of_element_to_plot == 'primary':\n",
    "            mean_normalized_dict.get('primary_axis_elements')['%s/%s' %(ratio_of_element_numerator, ratio_of_element_denominator)] = ratio_of_element_dict['ratio_of_elements']\n",
    "        if axis_of_ratio_of_element_to_plot == 'secondary':\n",
    "            if list_of_elements_to_plot_in_secondary_y_axis != []:\n",
    "                mean_normalized_dict['secondary_axis_elements']['%s/%s' %(ratio_of_element_numerator, ratio_of_element_denominator)] = ratio_of_element_dict['ratio_of_elements']\n",
    "            else:\n",
    "                mean_normalized_dict['secondary_axis_elements'] = {'%s/%s' %(ratio_of_element_numerator, ratio_of_element_denominator): ratio_of_element_dict['ratio_of_elements']}\n",
    "        tof_sims_data_plot(mean_normalized_dict)\n",
    "    elif 'mean_normalized' in type_of_plot:\n",
    "        mean_normalized_dict = mean_normalize_data(data)\n",
    "        tof_sims_data_plot(mean_normalized_dict)\n",
    "    if ('element_normalized' in type_of_plot) and ('ratio_of_element' in type_of_plot):\n",
    "        element_normalized_dict = element_normalize_data(data)\n",
    "        ratio_of_element_dict = ratio_of_element_data(data)\n",
    "        if axis_of_ratio_of_element_to_plot == 'primary':\n",
    "            element_normalized_dict.get('primary_axis_elements')['%s/%s' %(ratio_of_element_numerator, ratio_of_element_denominator)] = ratio_of_element_dict['ratio_of_elements']\n",
    "        if axis_of_ratio_of_element_to_plot == 'secondary':\n",
    "            if list_of_elements_to_plot_in_secondary_y_axis != []:\n",
    "                element_normalized_dict.get('secondary_axis_elements')['%s/%s' %(ratio_of_element_numerator, ratio_of_element_denominator)] = ratio_of_element_dict['ratio_of_elements']\n",
    "            else:\n",
    "                element_normalized_dict['secondary_axis_elements'] = {'%s/%s' %(ratio_of_element_numerator, ratio_of_element_denominator): ratio_of_element_dict['ratio_of_elements']}\n",
    "        tof_sims_data_plot(element_normalized_dict)\n",
    "    elif 'element_normalized' in type_of_plot:\n",
    "        element_normalized_dict = element_normalize_data(data)\n",
    "        tof_sims_data_plot(element_normalized_dict)\n",
    "\n",
    "if pilot_mode == 'yes':\n",
    "    list_of_files = glob.glob('*.txt')\n",
    "    for lines0_0 in list_of_files:\n",
    "        tof_sims_data = tof_sims_file_process(lines0_0)\n",
    "        tof_sims_data_process(tof_sims_data)\n",
    "else:\n",
    "    tof_sims_data = tof_sims_file_process(filename_to_process)\n",
    "    tof_sims_data_process(tof_sims_data)\n"
   ]
  },
  {
   "cell_type": "code",
   "execution_count": null,
   "id": "4db0a60b",
   "metadata": {},
   "outputs": [],
   "source": []
  },
  {
   "cell_type": "code",
   "execution_count": null,
   "id": "592bfd49",
   "metadata": {},
   "outputs": [],
   "source": []
  },
  {
   "cell_type": "code",
   "execution_count": null,
   "id": "52a55370",
   "metadata": {},
   "outputs": [],
   "source": []
  },
  {
   "cell_type": "code",
   "execution_count": null,
   "id": "cbb19da8",
   "metadata": {},
   "outputs": [],
   "source": []
  },
  {
   "cell_type": "code",
   "execution_count": null,
   "id": "dc6d3f37",
   "metadata": {},
   "outputs": [],
   "source": []
  },
  {
   "cell_type": "code",
   "execution_count": null,
   "id": "5e8f5fad",
   "metadata": {},
   "outputs": [],
   "source": []
  },
  {
   "cell_type": "markdown",
   "id": "ea781d1d",
   "metadata": {},
   "source": [
    "## Change the colormap for secondary y-axis"
   ]
  },
  {
   "cell_type": "code",
   "execution_count": null,
   "id": "6f5a19f2",
   "metadata": {},
   "outputs": [],
   "source": []
  },
  {
   "cell_type": "code",
   "execution_count": null,
   "id": "1a79b07a",
   "metadata": {},
   "outputs": [],
   "source": []
  },
  {
   "cell_type": "code",
   "execution_count": null,
   "id": "ce9984b0",
   "metadata": {},
   "outputs": [],
   "source": []
  },
  {
   "cell_type": "code",
   "execution_count": null,
   "id": "0bc1fa40",
   "metadata": {},
   "outputs": [],
   "source": []
  },
  {
   "cell_type": "code",
   "execution_count": null,
   "id": "45246bcf",
   "metadata": {},
   "outputs": [],
   "source": []
  },
  {
   "cell_type": "code",
   "execution_count": null,
   "id": "07e77a33",
   "metadata": {},
   "outputs": [],
   "source": []
  },
  {
   "cell_type": "code",
   "execution_count": null,
   "id": "39ab101b",
   "metadata": {},
   "outputs": [],
   "source": []
  },
  {
   "cell_type": "code",
   "execution_count": null,
   "id": "54e2a927",
   "metadata": {},
   "outputs": [],
   "source": []
  },
  {
   "cell_type": "code",
   "execution_count": null,
   "id": "8b034ac9",
   "metadata": {},
   "outputs": [],
   "source": []
  },
  {
   "cell_type": "code",
   "execution_count": null,
   "id": "05de3bad",
   "metadata": {},
   "outputs": [],
   "source": []
  }
 ],
 "metadata": {
  "kernelspec": {
   "display_name": "Python [conda env:tf] *",
   "language": "python",
   "name": "conda-env-tf-py"
  },
  "language_info": {
   "codemirror_mode": {
    "name": "ipython",
    "version": 3
   },
   "file_extension": ".py",
   "mimetype": "text/x-python",
   "name": "python",
   "nbconvert_exporter": "python",
   "pygments_lexer": "ipython3",
   "version": "3.7.12"
  }
 },
 "nbformat": 4,
 "nbformat_minor": 5
}
