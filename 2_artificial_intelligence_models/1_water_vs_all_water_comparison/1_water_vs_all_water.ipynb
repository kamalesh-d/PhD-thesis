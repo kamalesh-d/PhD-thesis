{
 "cells": [
  {
   "cell_type": "code",
   "execution_count": 2,
   "id": "071afc8d",
   "metadata": {},
   "outputs": [],
   "source": [
    "import numpy as np\n",
    "import pandas as pd\n",
    "import matplotlib.pyplot as plt\n",
    "import seaborn as sns\n",
    "import plotly.express as px\n",
    "from statistics import mean"
   ]
  },
  {
   "cell_type": "markdown",
   "id": "f20d1304",
   "metadata": {},
   "source": [
    "## Loading data to verify if running only with 1 water has some impact"
   ]
  },
  {
   "cell_type": "code",
   "execution_count": 3,
   "id": "1b4efefb",
   "metadata": {},
   "outputs": [
    {
     "data": {
      "text/html": [
       "<div>\n",
       "<style scoped>\n",
       "    .dataframe tbody tr th:only-of-type {\n",
       "        vertical-align: middle;\n",
       "    }\n",
       "\n",
       "    .dataframe tbody tr th {\n",
       "        vertical-align: top;\n",
       "    }\n",
       "\n",
       "    .dataframe thead th {\n",
       "        text-align: right;\n",
       "    }\n",
       "</style>\n",
       "<table border=\"1\" class=\"dataframe\">\n",
       "  <thead>\n",
       "    <tr style=\"text-align: right;\">\n",
       "      <th></th>\n",
       "      <th>0</th>\n",
       "      <th>1</th>\n",
       "      <th>2</th>\n",
       "      <th>3</th>\n",
       "      <th>4</th>\n",
       "    </tr>\n",
       "  </thead>\n",
       "  <tbody>\n",
       "    <tr>\n",
       "      <th>Glass_number</th>\n",
       "      <td>glass_num_0</td>\n",
       "      <td>glass_num_0</td>\n",
       "      <td>glass_num_0</td>\n",
       "      <td>glass_num_0</td>\n",
       "      <td>glass_num_0</td>\n",
       "    </tr>\n",
       "    <tr>\n",
       "      <th>Filename</th>\n",
       "      <td>O_538_Si_597</td>\n",
       "      <td>O_1_Si_606</td>\n",
       "      <td>O_238_Si_614</td>\n",
       "      <td>O_430_Si_623</td>\n",
       "      <td>O_49_Si_627</td>\n",
       "    </tr>\n",
       "    <tr>\n",
       "      <th>Si_O_Si_Bond_angle</th>\n",
       "      <td>165.35545</td>\n",
       "      <td>134.179438</td>\n",
       "      <td>125.796872</td>\n",
       "      <td>167.970949</td>\n",
       "      <td>128.261568</td>\n",
       "    </tr>\n",
       "    <tr>\n",
       "      <th>O_Si_O_bond_angle</th>\n",
       "      <td>163.817986</td>\n",
       "      <td>161.834655</td>\n",
       "      <td>153.507315</td>\n",
       "      <td>158.208006</td>\n",
       "      <td>146.035677</td>\n",
       "    </tr>\n",
       "    <tr>\n",
       "      <th>number_bridge_oxygen</th>\n",
       "      <td>4</td>\n",
       "      <td>4</td>\n",
       "      <td>3</td>\n",
       "      <td>4</td>\n",
       "      <td>4</td>\n",
       "    </tr>\n",
       "    <tr>\n",
       "      <th>env_chem_si</th>\n",
       "      <td>4</td>\n",
       "      <td>4</td>\n",
       "      <td>3</td>\n",
       "      <td>4</td>\n",
       "      <td>4</td>\n",
       "    </tr>\n",
       "    <tr>\n",
       "      <th>env_chem_al</th>\n",
       "      <td>0</td>\n",
       "      <td>0</td>\n",
       "      <td>0</td>\n",
       "      <td>0</td>\n",
       "      <td>0</td>\n",
       "    </tr>\n",
       "    <tr>\n",
       "      <th>Activation_barrier</th>\n",
       "      <td>0.656303</td>\n",
       "      <td>0.806279</td>\n",
       "      <td>0.542326</td>\n",
       "      <td>0.725953</td>\n",
       "      <td>1.087752</td>\n",
       "    </tr>\n",
       "    <tr>\n",
       "      <th>initial_water_si_distance</th>\n",
       "      <td>3.254</td>\n",
       "      <td>3.273</td>\n",
       "      <td>3.396</td>\n",
       "      <td>3.278</td>\n",
       "      <td>3.321</td>\n",
       "    </tr>\n",
       "    <tr>\n",
       "      <th>Stress</th>\n",
       "      <td>-0.252007</td>\n",
       "      <td>-0.225995</td>\n",
       "      <td>-0.182279</td>\n",
       "      <td>-0.254495</td>\n",
       "      <td>-0.255139</td>\n",
       "    </tr>\n",
       "    <tr>\n",
       "      <th>Shear</th>\n",
       "      <td>0.0372</td>\n",
       "      <td>0.158976</td>\n",
       "      <td>0.16462</td>\n",
       "      <td>0.0807</td>\n",
       "      <td>0.116086</td>\n",
       "    </tr>\n",
       "  </tbody>\n",
       "</table>\n",
       "</div>"
      ],
      "text/plain": [
       "                                      0            1             2  \\\n",
       "Glass_number                glass_num_0  glass_num_0   glass_num_0   \n",
       "Filename                   O_538_Si_597   O_1_Si_606  O_238_Si_614   \n",
       "Si_O_Si_Bond_angle            165.35545   134.179438    125.796872   \n",
       "O_Si_O_bond_angle            163.817986   161.834655    153.507315   \n",
       "number_bridge_oxygen                  4            4             3   \n",
       "env_chem_si                           4            4             3   \n",
       "env_chem_al                           0            0             0   \n",
       "Activation_barrier             0.656303     0.806279      0.542326   \n",
       "initial_water_si_distance         3.254        3.273         3.396   \n",
       "Stress                        -0.252007    -0.225995     -0.182279   \n",
       "Shear                            0.0372     0.158976       0.16462   \n",
       "\n",
       "                                      3            4  \n",
       "Glass_number                glass_num_0  glass_num_0  \n",
       "Filename                   O_430_Si_623  O_49_Si_627  \n",
       "Si_O_Si_Bond_angle           167.970949   128.261568  \n",
       "O_Si_O_bond_angle            158.208006   146.035677  \n",
       "number_bridge_oxygen                  4            4  \n",
       "env_chem_si                           4            4  \n",
       "env_chem_al                           0            0  \n",
       "Activation_barrier             0.725953     1.087752  \n",
       "initial_water_si_distance         3.278        3.321  \n",
       "Stress                        -0.254495    -0.255139  \n",
       "Shear                            0.0807     0.116086  "
      ]
     },
     "execution_count": 3,
     "metadata": {},
     "output_type": "execute_result"
    }
   ],
   "source": [
    "one_water = pd.read_csv('1_water_pure_silicate_glass.csv')\n",
    "one_water.head(5).T"
   ]
  },
  {
   "cell_type": "code",
   "execution_count": 4,
   "id": "aad98911",
   "metadata": {},
   "outputs": [
    {
     "data": {
      "text/html": [
       "<div>\n",
       "<style scoped>\n",
       "    .dataframe tbody tr th:only-of-type {\n",
       "        vertical-align: middle;\n",
       "    }\n",
       "\n",
       "    .dataframe tbody tr th {\n",
       "        vertical-align: top;\n",
       "    }\n",
       "\n",
       "    .dataframe thead th {\n",
       "        text-align: right;\n",
       "    }\n",
       "</style>\n",
       "<table border=\"1\" class=\"dataframe\">\n",
       "  <thead>\n",
       "    <tr style=\"text-align: right;\">\n",
       "      <th></th>\n",
       "      <th>0</th>\n",
       "      <th>1</th>\n",
       "      <th>2</th>\n",
       "      <th>3</th>\n",
       "      <th>4</th>\n",
       "    </tr>\n",
       "  </thead>\n",
       "  <tbody>\n",
       "    <tr>\n",
       "      <th>Glass_number</th>\n",
       "      <td>glass_num_0</td>\n",
       "      <td>glass_num_0</td>\n",
       "      <td>glass_num_0</td>\n",
       "      <td>glass_num_0</td>\n",
       "      <td>glass_num_0</td>\n",
       "    </tr>\n",
       "    <tr>\n",
       "      <th>Filename</th>\n",
       "      <td>O_538_Si_597</td>\n",
       "      <td>O_1_Si_606</td>\n",
       "      <td>O_238_Si_614</td>\n",
       "      <td>O_430_Si_623</td>\n",
       "      <td>O_49_Si_627</td>\n",
       "    </tr>\n",
       "    <tr>\n",
       "      <th>Si_O_Si_Bond_angle</th>\n",
       "      <td>165.35545</td>\n",
       "      <td>134.179438</td>\n",
       "      <td>125.796872</td>\n",
       "      <td>167.970949</td>\n",
       "      <td>128.261568</td>\n",
       "    </tr>\n",
       "    <tr>\n",
       "      <th>O_Si_O_bond_angle</th>\n",
       "      <td>163.817986</td>\n",
       "      <td>161.834655</td>\n",
       "      <td>153.507315</td>\n",
       "      <td>158.208006</td>\n",
       "      <td>146.035677</td>\n",
       "    </tr>\n",
       "    <tr>\n",
       "      <th>number_bridge_oxygen</th>\n",
       "      <td>4</td>\n",
       "      <td>4</td>\n",
       "      <td>3</td>\n",
       "      <td>4</td>\n",
       "      <td>4</td>\n",
       "    </tr>\n",
       "    <tr>\n",
       "      <th>env_chem_si</th>\n",
       "      <td>4</td>\n",
       "      <td>4</td>\n",
       "      <td>3</td>\n",
       "      <td>4</td>\n",
       "      <td>4</td>\n",
       "    </tr>\n",
       "    <tr>\n",
       "      <th>env_chem_al</th>\n",
       "      <td>0</td>\n",
       "      <td>0</td>\n",
       "      <td>0</td>\n",
       "      <td>0</td>\n",
       "      <td>0</td>\n",
       "    </tr>\n",
       "    <tr>\n",
       "      <th>Activation_barrier</th>\n",
       "      <td>0.90306</td>\n",
       "      <td>1.125352</td>\n",
       "      <td>0.833951</td>\n",
       "      <td>1.166612</td>\n",
       "      <td>1.201377</td>\n",
       "    </tr>\n",
       "    <tr>\n",
       "      <th>initial_water_si_distance</th>\n",
       "      <td>3.254</td>\n",
       "      <td>3.273</td>\n",
       "      <td>3.396</td>\n",
       "      <td>3.278</td>\n",
       "      <td>3.321</td>\n",
       "    </tr>\n",
       "    <tr>\n",
       "      <th>Stress</th>\n",
       "      <td>-0.252007</td>\n",
       "      <td>-0.225995</td>\n",
       "      <td>-0.182279</td>\n",
       "      <td>-0.254495</td>\n",
       "      <td>-0.255139</td>\n",
       "    </tr>\n",
       "    <tr>\n",
       "      <th>Shear</th>\n",
       "      <td>0.0372</td>\n",
       "      <td>0.158976</td>\n",
       "      <td>0.16462</td>\n",
       "      <td>0.0807</td>\n",
       "      <td>0.116086</td>\n",
       "    </tr>\n",
       "  </tbody>\n",
       "</table>\n",
       "</div>"
      ],
      "text/plain": [
       "                                      0            1             2  \\\n",
       "Glass_number                glass_num_0  glass_num_0   glass_num_0   \n",
       "Filename                   O_538_Si_597   O_1_Si_606  O_238_Si_614   \n",
       "Si_O_Si_Bond_angle            165.35545   134.179438    125.796872   \n",
       "O_Si_O_bond_angle            163.817986   161.834655    153.507315   \n",
       "number_bridge_oxygen                  4            4             3   \n",
       "env_chem_si                           4            4             3   \n",
       "env_chem_al                           0            0             0   \n",
       "Activation_barrier              0.90306     1.125352      0.833951   \n",
       "initial_water_si_distance         3.254        3.273         3.396   \n",
       "Stress                        -0.252007    -0.225995     -0.182279   \n",
       "Shear                            0.0372     0.158976       0.16462   \n",
       "\n",
       "                                      3            4  \n",
       "Glass_number                glass_num_0  glass_num_0  \n",
       "Filename                   O_430_Si_623  O_49_Si_627  \n",
       "Si_O_Si_Bond_angle           167.970949   128.261568  \n",
       "O_Si_O_bond_angle            158.208006   146.035677  \n",
       "number_bridge_oxygen                  4            4  \n",
       "env_chem_si                           4            4  \n",
       "env_chem_al                           0            0  \n",
       "Activation_barrier             1.166612     1.201377  \n",
       "initial_water_si_distance         3.278        3.321  \n",
       "Stress                        -0.254495    -0.255139  \n",
       "Shear                            0.0807     0.116086  "
      ]
     },
     "execution_count": 4,
     "metadata": {},
     "output_type": "execute_result"
    }
   ],
   "source": [
    "all_water = pd.read_csv('all_water_pure_silicate_glass.csv')\n",
    "all_water.head(5).T"
   ]
  },
  {
   "cell_type": "code",
   "execution_count": 5,
   "id": "b1dbac8f",
   "metadata": {},
   "outputs": [
    {
     "name": "stdout",
     "output_type": "stream",
     "text": [
      "0.1980505762176724\n"
     ]
    },
    {
     "data": {
      "image/png": "[encoded data removed]",
      "text/plain": [
       "<Figure size 432x288 with 1 Axes>"
      ]
     },
     "metadata": {
      "needs_background": "light"
     },
     "output_type": "display_data"
    }
   ],
   "source": [
    "def before_after_10k_graph_analysis(Data_b4_10k, Data_aftr_10k, feature_to_be_analyzed, title):\n",
    "    before_10k = []\n",
    "    after_10k = []\n",
    "    difference = []\n",
    "    for lines1_1, lines1_2 in zip(Data_b4_10k['Filename'], Data_b4_10k[feature_to_be_analyzed]):\n",
    "        for lines1_3, lines1_4 in zip(Data_aftr_10k['Filename'], Data_aftr_10k[feature_to_be_analyzed]):\n",
    "            if lines1_1 == lines1_3:\n",
    "                before_10k.append(lines1_2)\n",
    "                after_10k.append(lines1_4)\n",
    "                difference.append(abs(lines1_2 - lines1_4))\n",
    "            else:\n",
    "                pass\n",
    "    \n",
    "    print(mean(difference))\n",
    "\n",
    "    f = plt.figure()\n",
    "    axarr = f.add_subplot(1,1,1) # here is where you add the subplot to f\n",
    "    plt.scatter(before_10k, after_10k)\n",
    "    plt.xlabel('One water against Si')\n",
    "    plt.ylabel('Multiple water against Si')\n",
    "    plt.title(title, size=16)\n",
    "    plt.plot(before_10k, before_10k, color='red', alpha=0.75)\n",
    "\n",
    "    return f\n",
    "\n",
    "x1_1 = before_after_10k_graph_analysis(one_water, all_water, feature_to_be_analyzed='Activation_barrier', title='Activation energy')"
   ]
  },
  {
   "cell_type": "code",
   "execution_count": 6,
   "id": "7abf17e4",
   "metadata": {},
   "outputs": [
    {
     "name": "stdout",
     "output_type": "stream",
     "text": [
      "0.1980505762176724\n"
     ]
    },
    {
     "data": {
      "image/png": "[encoded data removed]",
      "text/plain": [
       "<Figure size 432x288 with 1 Axes>"
      ]
     },
     "metadata": {
      "needs_background": "light"
     },
     "output_type": "display_data"
    }
   ],
   "source": [
    "x1_1 = before_after_10k_graph_analysis(one_water, all_water, feature_to_be_analyzed='Activation_barrier', title='Activation energy')\n",
    "plt.savefig('test.png', dpi=300)"
   ]
  },
  {
   "cell_type": "code",
   "execution_count": 7,
   "id": "ef58cd30",
   "metadata": {},
   "outputs": [
    {
     "name": "stdout",
     "output_type": "stream",
     "text": [
      "0.9486941795258622\n"
     ]
    },
    {
     "data": {
      "image/png": "[encoded data removed]",
      "text/plain": [
       "<Figure size 432x288 with 1 Axes>"
      ]
     },
     "metadata": {
      "needs_background": "light"
     },
     "output_type": "display_data"
    }
   ],
   "source": [
    "x1_1 = before_after_10k_graph_analysis(one_water, all_water, feature_to_be_analyzed='Si_O_Si_Bond_angle', title='Si_O_Si Bond angle')\n",
    "plt.savefig('bond_angle.png', dpi=300)"
   ]
  },
  {
   "cell_type": "code",
   "execution_count": 8,
   "id": "2bac4183",
   "metadata": {},
   "outputs": [
    {
     "name": "stdout",
     "output_type": "stream",
     "text": [
      "-0.09296601363135654\n"
     ]
    }
   ],
   "source": [
    "selected_before_10k = []\n",
    "selected_after_10k = []\n",
    "\n",
    "for lines1_1, lines1_2 in zip(one_water['Filename'], one_water['Activation_barrier']):\n",
    "    for lines1_3, lines1_4 in zip(all_water['Filename'], all_water['Activation_barrier']):\n",
    "        if lines1_1 == lines1_3:\n",
    "            selected_before_10k.append(lines1_2)\n",
    "            selected_after_10k.append(lines1_4)\n",
    "        else:\n",
    "            pass\n",
    "\n",
    "difference = (np.array(selected_before_10k) - np.array(selected_after_10k))/(np.array(selected_before_10k))\n",
    "\n",
    "print(mean(difference))"
   ]
  },
  {
   "cell_type": "code",
   "execution_count": null,
   "id": "007335a2",
   "metadata": {},
   "outputs": [],
   "source": []
  }
 ],
 "metadata": {
  "kernelspec": {
   "display_name": "Python [conda env:tf] *",
   "language": "python",
   "name": "conda-env-tf-py"
  },
  "language_info": {
   "codemirror_mode": {
    "name": "ipython",
    "version": 3
   },
   "file_extension": ".py",
   "mimetype": "text/x-python",
   "name": "python",
   "nbconvert_exporter": "python",
   "pygments_lexer": "ipython3",
   "version": "3.7.12"
  }
 },
 "nbformat": 4,
 "nbformat_minor": 5
}
