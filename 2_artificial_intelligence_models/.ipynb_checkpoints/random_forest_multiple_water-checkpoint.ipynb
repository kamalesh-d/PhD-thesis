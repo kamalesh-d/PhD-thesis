{
 "cells": [
  {
   "cell_type": "code",
   "execution_count": 2,
   "id": "20e6ae64",
   "metadata": {},
   "outputs": [],
   "source": [
    "import numpy as np\n",
    "import pandas as pd\n",
    "import matplotlib.pyplot as plt\n",
    "import seaborn as sns\n",
    "from sklearn.preprocessing import LabelEncoder, OneHotEncoder\n",
    "import warnings\n",
    "warnings.filterwarnings(\"ignore\")\n",
    "from sklearn.model_selection import train_test_split\n",
    "from sklearn.svm import SVC\n",
    "from sklearn.metrics import confusion_matrix\n",
    "np.random.seed(123)"
   ]
  },
  {
   "cell_type": "code",
   "execution_count": 3,
   "id": "e2d5a4a6",
   "metadata": {},
   "outputs": [
    {
     "data": {
      "text/html": [
       "<div>\n",
       "<style scoped>\n",
       "    .dataframe tbody tr th:only-of-type {\n",
       "        vertical-align: middle;\n",
       "    }\n",
       "\n",
       "    .dataframe tbody tr th {\n",
       "        vertical-align: top;\n",
       "    }\n",
       "\n",
       "    .dataframe thead th {\n",
       "        text-align: right;\n",
       "    }\n",
       "</style>\n",
       "<table border=\"1\" class=\"dataframe\">\n",
       "  <thead>\n",
       "    <tr style=\"text-align: right;\">\n",
       "      <th></th>\n",
       "      <th>0</th>\n",
       "      <th>1</th>\n",
       "      <th>2</th>\n",
       "      <th>3</th>\n",
       "      <th>4</th>\n",
       "    </tr>\n",
       "  </thead>\n",
       "  <tbody>\n",
       "    <tr>\n",
       "      <th>Glass_number</th>\n",
       "      <td>glass_num_1</td>\n",
       "      <td>glass_num_35</td>\n",
       "      <td>glass_num_1</td>\n",
       "      <td>glass_num_24</td>\n",
       "      <td>glass_num_18</td>\n",
       "    </tr>\n",
       "    <tr>\n",
       "      <th>Filename</th>\n",
       "      <td>O_184_Si_615</td>\n",
       "      <td>O_109_Si_713</td>\n",
       "      <td>O_64_Si_609</td>\n",
       "      <td>O_571_Si_665</td>\n",
       "      <td>O_43_Si_603</td>\n",
       "    </tr>\n",
       "    <tr>\n",
       "      <th>Si_O_Si_Bond_angle</th>\n",
       "      <td>147.780142</td>\n",
       "      <td>136.803564</td>\n",
       "      <td>156.221242</td>\n",
       "      <td>152.639899</td>\n",
       "      <td>132.953717</td>\n",
       "    </tr>\n",
       "    <tr>\n",
       "      <th>O_Si_O_bond_angle</th>\n",
       "      <td>157.24055</td>\n",
       "      <td>164.03284</td>\n",
       "      <td>168.912047</td>\n",
       "      <td>174.627257</td>\n",
       "      <td>142.964219</td>\n",
       "    </tr>\n",
       "    <tr>\n",
       "      <th>number_bridge_oxygen</th>\n",
       "      <td>4</td>\n",
       "      <td>4</td>\n",
       "      <td>2</td>\n",
       "      <td>4</td>\n",
       "      <td>4</td>\n",
       "    </tr>\n",
       "    <tr>\n",
       "      <th>env_chem_si</th>\n",
       "      <td>4</td>\n",
       "      <td>4</td>\n",
       "      <td>2</td>\n",
       "      <td>4</td>\n",
       "      <td>4</td>\n",
       "    </tr>\n",
       "    <tr>\n",
       "      <th>env_chem_al</th>\n",
       "      <td>0</td>\n",
       "      <td>0</td>\n",
       "      <td>0</td>\n",
       "      <td>0</td>\n",
       "      <td>0</td>\n",
       "    </tr>\n",
       "    <tr>\n",
       "      <th>Activation_barrier</th>\n",
       "      <td>0.503604</td>\n",
       "      <td>0.508824</td>\n",
       "      <td>0.510512</td>\n",
       "      <td>0.523511</td>\n",
       "      <td>0.532097</td>\n",
       "    </tr>\n",
       "    <tr>\n",
       "      <th>Stress</th>\n",
       "      <td>-0.143387</td>\n",
       "      <td>-0.288229</td>\n",
       "      <td>-0.213033</td>\n",
       "      <td>-0.263542</td>\n",
       "      <td>-0.260916</td>\n",
       "    </tr>\n",
       "    <tr>\n",
       "      <th>Shear</th>\n",
       "      <td>0.127456</td>\n",
       "      <td>0.09</td>\n",
       "      <td>0.0918</td>\n",
       "      <td>0.0654</td>\n",
       "      <td>0.129444</td>\n",
       "    </tr>\n",
       "  </tbody>\n",
       "</table>\n",
       "</div>"
      ],
      "text/plain": [
       "                                 0             1            2             3  \\\n",
       "Glass_number           glass_num_1  glass_num_35  glass_num_1  glass_num_24   \n",
       "Filename              O_184_Si_615  O_109_Si_713  O_64_Si_609  O_571_Si_665   \n",
       "Si_O_Si_Bond_angle      147.780142    136.803564   156.221242    152.639899   \n",
       "O_Si_O_bond_angle        157.24055     164.03284   168.912047    174.627257   \n",
       "number_bridge_oxygen             4             4            2             4   \n",
       "env_chem_si                      4             4            2             4   \n",
       "env_chem_al                      0             0            0             0   \n",
       "Activation_barrier        0.503604      0.508824     0.510512      0.523511   \n",
       "Stress                   -0.143387     -0.288229    -0.213033     -0.263542   \n",
       "Shear                     0.127456          0.09       0.0918        0.0654   \n",
       "\n",
       "                                 4  \n",
       "Glass_number          glass_num_18  \n",
       "Filename               O_43_Si_603  \n",
       "Si_O_Si_Bond_angle      132.953717  \n",
       "O_Si_O_bond_angle       142.964219  \n",
       "number_bridge_oxygen             4  \n",
       "env_chem_si                      4  \n",
       "env_chem_al                      0  \n",
       "Activation_barrier        0.532097  \n",
       "Stress                   -0.260916  \n",
       "Shear                     0.129444  "
      ]
     },
     "execution_count": 3,
     "metadata": {},
     "output_type": "execute_result"
    }
   ],
   "source": [
    "Data = pd.read_csv('pure_silicate_glass_0.5_to_2.5.csv')\n",
    "Data.head(5).T"
   ]
  },
  {
   "cell_type": "code",
   "execution_count": 4,
   "id": "b2d32cab",
   "metadata": {},
   "outputs": [
    {
     "name": "stdout",
     "output_type": "stream",
     "text": [
      "<class 'pandas.core.frame.DataFrame'>\n",
      "RangeIndex: 572 entries, 0 to 571\n",
      "Data columns (total 10 columns):\n",
      " #   Column                Non-Null Count  Dtype  \n",
      "---  ------                --------------  -----  \n",
      " 0   Glass_number          572 non-null    object \n",
      " 1   Filename              572 non-null    object \n",
      " 2   Si_O_Si_Bond_angle    572 non-null    float64\n",
      " 3   O_Si_O_bond_angle     572 non-null    float64\n",
      " 4   number_bridge_oxygen  572 non-null    int64  \n",
      " 5   env_chem_si           572 non-null    int64  \n",
      " 6   env_chem_al           572 non-null    int64  \n",
      " 7   Activation_barrier    572 non-null    float64\n",
      " 8   Stress                572 non-null    float64\n",
      " 9   Shear                 572 non-null    float64\n",
      "dtypes: float64(5), int64(3), object(2)\n",
      "memory usage: 44.8+ KB\n"
     ]
    },
    {
     "data": {
      "text/html": [
       "<div>\n",
       "<style scoped>\n",
       "    .dataframe tbody tr th:only-of-type {\n",
       "        vertical-align: middle;\n",
       "    }\n",
       "\n",
       "    .dataframe tbody tr th {\n",
       "        vertical-align: top;\n",
       "    }\n",
       "\n",
       "    .dataframe thead th {\n",
       "        text-align: right;\n",
       "    }\n",
       "</style>\n",
       "<table border=\"1\" class=\"dataframe\">\n",
       "  <thead>\n",
       "    <tr style=\"text-align: right;\">\n",
       "      <th></th>\n",
       "      <th>count</th>\n",
       "      <th>mean</th>\n",
       "      <th>std</th>\n",
       "      <th>min</th>\n",
       "      <th>25%</th>\n",
       "      <th>50%</th>\n",
       "      <th>75%</th>\n",
       "      <th>max</th>\n",
       "    </tr>\n",
       "  </thead>\n",
       "  <tbody>\n",
       "    <tr>\n",
       "      <th>Si_O_Si_Bond_angle</th>\n",
       "      <td>572.0</td>\n",
       "      <td>151.500895</td>\n",
       "      <td>12.565132</td>\n",
       "      <td>119.834968</td>\n",
       "      <td>142.733720</td>\n",
       "      <td>151.073426</td>\n",
       "      <td>161.054891</td>\n",
       "      <td>179.169596</td>\n",
       "    </tr>\n",
       "    <tr>\n",
       "      <th>O_Si_O_bond_angle</th>\n",
       "      <td>572.0</td>\n",
       "      <td>162.956516</td>\n",
       "      <td>16.144620</td>\n",
       "      <td>48.899566</td>\n",
       "      <td>159.897892</td>\n",
       "      <td>166.192689</td>\n",
       "      <td>171.489244</td>\n",
       "      <td>179.589997</td>\n",
       "    </tr>\n",
       "    <tr>\n",
       "      <th>number_bridge_oxygen</th>\n",
       "      <td>572.0</td>\n",
       "      <td>3.519231</td>\n",
       "      <td>0.575002</td>\n",
       "      <td>2.000000</td>\n",
       "      <td>3.000000</td>\n",
       "      <td>4.000000</td>\n",
       "      <td>4.000000</td>\n",
       "      <td>4.000000</td>\n",
       "    </tr>\n",
       "    <tr>\n",
       "      <th>env_chem_si</th>\n",
       "      <td>572.0</td>\n",
       "      <td>3.519231</td>\n",
       "      <td>0.575002</td>\n",
       "      <td>2.000000</td>\n",
       "      <td>3.000000</td>\n",
       "      <td>4.000000</td>\n",
       "      <td>4.000000</td>\n",
       "      <td>4.000000</td>\n",
       "    </tr>\n",
       "    <tr>\n",
       "      <th>env_chem_al</th>\n",
       "      <td>572.0</td>\n",
       "      <td>0.000000</td>\n",
       "      <td>0.000000</td>\n",
       "      <td>0.000000</td>\n",
       "      <td>0.000000</td>\n",
       "      <td>0.000000</td>\n",
       "      <td>0.000000</td>\n",
       "      <td>0.000000</td>\n",
       "    </tr>\n",
       "    <tr>\n",
       "      <th>Activation_barrier</th>\n",
       "      <td>572.0</td>\n",
       "      <td>1.208617</td>\n",
       "      <td>0.343886</td>\n",
       "      <td>0.503604</td>\n",
       "      <td>0.964060</td>\n",
       "      <td>1.196324</td>\n",
       "      <td>1.440580</td>\n",
       "      <td>2.660335</td>\n",
       "    </tr>\n",
       "    <tr>\n",
       "      <th>Stress</th>\n",
       "      <td>572.0</td>\n",
       "      <td>-0.221230</td>\n",
       "      <td>0.038490</td>\n",
       "      <td>-0.327713</td>\n",
       "      <td>-0.246749</td>\n",
       "      <td>-0.219832</td>\n",
       "      <td>-0.193891</td>\n",
       "      <td>-0.124659</td>\n",
       "    </tr>\n",
       "    <tr>\n",
       "      <th>Shear</th>\n",
       "      <td>572.0</td>\n",
       "      <td>0.103660</td>\n",
       "      <td>0.038800</td>\n",
       "      <td>0.018800</td>\n",
       "      <td>0.076275</td>\n",
       "      <td>0.098500</td>\n",
       "      <td>0.125713</td>\n",
       "      <td>0.247458</td>\n",
       "    </tr>\n",
       "  </tbody>\n",
       "</table>\n",
       "</div>"
      ],
      "text/plain": [
       "                      count        mean        std         min         25%  \\\n",
       "Si_O_Si_Bond_angle    572.0  151.500895  12.565132  119.834968  142.733720   \n",
       "O_Si_O_bond_angle     572.0  162.956516  16.144620   48.899566  159.897892   \n",
       "number_bridge_oxygen  572.0    3.519231   0.575002    2.000000    3.000000   \n",
       "env_chem_si           572.0    3.519231   0.575002    2.000000    3.000000   \n",
       "env_chem_al           572.0    0.000000   0.000000    0.000000    0.000000   \n",
       "Activation_barrier    572.0    1.208617   0.343886    0.503604    0.964060   \n",
       "Stress                572.0   -0.221230   0.038490   -0.327713   -0.246749   \n",
       "Shear                 572.0    0.103660   0.038800    0.018800    0.076275   \n",
       "\n",
       "                             50%         75%         max  \n",
       "Si_O_Si_Bond_angle    151.073426  161.054891  179.169596  \n",
       "O_Si_O_bond_angle     166.192689  171.489244  179.589997  \n",
       "number_bridge_oxygen    4.000000    4.000000    4.000000  \n",
       "env_chem_si             4.000000    4.000000    4.000000  \n",
       "env_chem_al             0.000000    0.000000    0.000000  \n",
       "Activation_barrier      1.196324    1.440580    2.660335  \n",
       "Stress                 -0.219832   -0.193891   -0.124659  \n",
       "Shear                   0.098500    0.125713    0.247458  "
      ]
     },
     "execution_count": 4,
     "metadata": {},
     "output_type": "execute_result"
    }
   ],
   "source": [
    "Data.info()\n",
    "Data.describe().transpose()"
   ]
  },
  {
   "cell_type": "code",
   "execution_count": 5,
   "id": "8e72ecc4",
   "metadata": {},
   "outputs": [
    {
     "name": "stdout",
     "output_type": "stream",
     "text": [
      "Index(['Glass_number', 'Filename', 'Si_O_Si_Bond_angle', 'O_Si_O_bond_angle',\n",
      "       'number_bridge_oxygen', 'env_chem_si', 'env_chem_al',\n",
      "       'Activation_barrier', 'Stress', 'Shear'],\n",
      "      dtype='object')\n"
     ]
    }
   ],
   "source": [
    "print(Data.columns)\n"
   ]
  },
  {
   "cell_type": "code",
   "execution_count": 6,
   "id": "e00d653b",
   "metadata": {},
   "outputs": [
    {
     "name": "stdout",
     "output_type": "stream",
     "text": [
      "0.0002\n"
     ]
    }
   ],
   "source": [
    "import numpy as np\n",
    "from statsmodels.formula.api import ols\n",
    "import pandas\n",
    "import seaborn as sns\n",
    "\n",
    "x = Data['Shear']\n",
    "y = Data['Activation_barrier']\n",
    "\n",
    "data = pandas.DataFrame({'x': x, 'y': y})\n",
    "lm1 = ols(\"y ~ x\", data).fit()\n",
    "X_new = pandas.DataFrame({'x': [152.85183419]})\n",
    "\n",
    "print('%.4f' %(lm1.pvalues['x']))\n"
   ]
  },
  {
   "cell_type": "code",
   "execution_count": 7,
   "id": "d5dadb7c",
   "metadata": {},
   "outputs": [],
   "source": [
    "X = Data.drop(['Activation_barrier', 'Stress', 'number_bridge_oxygen', 'Glass_number', 'Filename'], axis =1).values\n"
   ]
  },
  {
   "cell_type": "code",
   "execution_count": 8,
   "id": "867831f2",
   "metadata": {},
   "outputs": [
    {
     "name": "stdout",
     "output_type": "stream",
     "text": [
      "Training set X size is :457\n",
      "Training set Y size is :457\n"
     ]
    }
   ],
   "source": [
    "Y = Data['Activation_barrier'].values\n",
    "\n",
    "from sklearn.model_selection import train_test_split\n",
    "\n",
    "X_train, X_test, Y_train, Y_test = train_test_split(X, Y, test_size=0.20, random_state=101)\n",
    "\n",
    "print('Training set X size is :' + str(len(X_train)))\n",
    "print('Training set Y size is :' + str(len(Y_train)))\n"
   ]
  },
  {
   "cell_type": "code",
   "execution_count": 9,
   "id": "6a65fabd",
   "metadata": {},
   "outputs": [],
   "source": [
    "from sklearn.preprocessing import StandardScaler\n",
    "s_scaler = StandardScaler()\n",
    "X_train = s_scaler.fit_transform(X_train.astype(float))\n",
    "X_test = s_scaler.transform(X_test.astype(float))"
   ]
  },
  {
   "cell_type": "code",
   "execution_count": 10,
   "id": "7749a972",
   "metadata": {},
   "outputs": [],
   "source": [
    "# Keras regression"
   ]
  },
  {
   "cell_type": "code",
   "execution_count": 11,
   "id": "3f91e9be",
   "metadata": {},
   "outputs": [
    {
     "data": {
      "text/plain": [
       "RandomForestRegressor(random_state=42)"
      ]
     },
     "execution_count": 11,
     "metadata": {},
     "output_type": "execute_result"
    }
   ],
   "source": [
    "# Random forest models\n",
    "\n",
    "from sklearn.ensemble import RandomForestRegressor\n",
    "from sklearn.metrics import mean_squared_error\n",
    "\n",
    "\n",
    "forest_reg = RandomForestRegressor(n_estimators=100, random_state=42)\n",
    "forest_reg.fit(X_train, Y_train)\n"
   ]
  },
  {
   "cell_type": "code",
   "execution_count": 12,
   "id": "f2fefeb0",
   "metadata": {},
   "outputs": [
    {
     "data": {
      "text/plain": [
       "0.13362344395822956"
      ]
     },
     "execution_count": 12,
     "metadata": {},
     "output_type": "execute_result"
    }
   ],
   "source": [
    "housing_predictions = forest_reg.predict(X_train)\n",
    "forest_mse = mean_squared_error(Y_train, housing_predictions) \n",
    "forest_rmse = np.sqrt(forest_mse) \n",
    "forest_rmse\n"
   ]
  },
  {
   "cell_type": "code",
   "execution_count": 13,
   "id": "b943b8ec",
   "metadata": {},
   "outputs": [
    {
     "name": "stdout",
     "output_type": "stream",
     "text": [
      "Train set MAE: 0.10305157541571112\n",
      "Train set MSE: 0.017855224775258118\n",
      "Train set RMSE: 0.13362344395822956\n",
      "Train set VarScore: 0.8530275709334725\n",
      "Test set MAE: 0.26057653310069573\n",
      "Test set MSE: 0.10101152754754604\n",
      "Test set RMSE: 0.3178231073215823\n",
      "Test set VarScore: 0.04795613874210691\n",
      "Train error is:9.356945416551028\n",
      "Test error is:27.684923404395363\n"
     ]
    },
    {
     "data": {
      "text/plain": [
       "[<matplotlib.lines.Line2D at 0x26831d1a148>]"
      ]
     },
     "execution_count": 13,
     "metadata": {},
     "output_type": "execute_result"
    },
    {
     "data": {
      "image/png": "[encoded data removed]",
      "text/plain": [
       "<Figure size 720x360 with 1 Axes>"
      ]
     },
     "metadata": {
      "needs_background": "light"
     },
     "output_type": "display_data"
    }
   ],
   "source": [
    "from sklearn import metrics\n",
    "\n",
    "Y_train_pred = forest_reg.predict(X_train)\n",
    "print('Train set MAE:', metrics.mean_absolute_error(Y_train, Y_train_pred))\n",
    "print('Train set MSE:', metrics.mean_squared_error(Y_train, Y_train_pred))  \n",
    "print('Train set RMSE:', np.sqrt(metrics.mean_squared_error(Y_train, Y_train_pred)))\n",
    "print('Train set VarScore:',metrics.explained_variance_score(Y_train,Y_train_pred))\n",
    "\n",
    "\n",
    "Y_pred = forest_reg.predict(X_test)\n",
    "print('Test set MAE:', metrics.mean_absolute_error(Y_test, Y_pred))  \n",
    "print('Test set MSE:', metrics.mean_squared_error(Y_test, Y_pred))  \n",
    "print('Test set RMSE:', np.sqrt(metrics.mean_squared_error(Y_test, Y_pred)))\n",
    "print('Test set VarScore:',metrics.explained_variance_score(Y_test,Y_pred))\n",
    "# Visualizing Our predictions\n",
    "fig = plt.figure(figsize=(10,5))\n",
    "plt.scatter(Y_train_pred, Y_train, label='Prediction on training data')\n",
    "plt.scatter(Y_pred, Y_test, label='Prediction on test data')\n",
    "plt.legend()\n",
    "plt.xlim(0.2, 2.5)\n",
    "plt.ylim(0.2, 2.5)\n",
    "\n",
    "print('Train error is:' + str(np.average(np.absolute((Y_train - Y_train_pred)/(Y_train)*100))))\n",
    "print('Test error is:' + str(np.average(np.absolute((Y_test - Y_pred)/(Y_test)*100))))\n",
    "\n",
    "# Perfect predictions\n",
    "plt.plot(Y_test,Y_test,'r')"
   ]
  },
  {
   "cell_type": "code",
   "execution_count": null,
   "id": "c76beafb",
   "metadata": {},
   "outputs": [],
   "source": []
  },
  {
   "cell_type": "code",
   "execution_count": null,
   "id": "165e0e9a",
   "metadata": {},
   "outputs": [],
   "source": []
  }
 ],
 "metadata": {
  "kernelspec": {
   "display_name": "Python [conda env:tf] *",
   "language": "python",
   "name": "conda-env-tf-py"
  },
  "language_info": {
   "codemirror_mode": {
    "name": "ipython",
    "version": 3
   },
   "file_extension": ".py",
   "mimetype": "text/x-python",
   "name": "python",
   "nbconvert_exporter": "python",
   "pygments_lexer": "ipython3",
   "version": "3.7.12"
  }
 },
 "nbformat": 4,
 "nbformat_minor": 5
}
